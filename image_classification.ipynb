{
 "cells": [
  {
   "cell_type": "code",
   "execution_count": 11,
   "metadata": {},
   "outputs": [],
   "source": [
    "import numpy as np\n",
    "import glob\n",
    "import math"
   ]
  },
  {
   "cell_type": "markdown",
   "metadata": {},
   "source": [
    "## Image Classification:    "
   ]
  },
  {
   "cell_type": "markdown",
   "metadata": {},
   "source": [
    "### The problem\n",
    "- **Semantic Gap**: Distância entre a ideia de um objeto é a representação binaria de um computador do objeto. \n",
    "\n",
    "### Challenges:\n",
    "- **Viewpoint Variant**\n",
    "- **Illumination**\n",
    "- **Deformation**\n",
    "- **Occlusion**: Ver apenas parte do objeto.\n",
    "- **Background Clutter**: o fundo da imagem pode ter caracteristicas similares ao objeto. \n",
    "- **Interclass variation**"
   ]
  },
  {
   "cell_type": "markdown",
   "metadata": {},
   "source": [
    "## Solutions to the problem of classification:\n",
    "\n",
    "### Data-Driven Approach. \n",
    "1. Collect a dataset of images and labels;\n",
    "2. Use Machine Learning to train a classifier;\n",
    "3. Evaluate the classifier on new images; "
   ]
  },
  {
   "cell_type": "markdown",
   "metadata": {},
   "source": [
    "#### First-Classifier: Nearest Neighbor"
   ]
  },
  {
   "cell_type": "code",
   "execution_count": null,
   "metadata": {},
   "outputs": [],
   "source": [
    "class NearestNeighbor:\n",
    "    def __init__(self):\n",
    "        pass\n",
    "\n",
    "    def train(self,X,y):\n",
    "        \"\"\" X is N x D where each row is an example. Y is 1-dimension of size N \"\"\"\n",
    "        # the nearest neighbor classifier simply remembers all the training data\n",
    "        self.Xtr = X\n",
    "        self.ytr = y\n",
    "\n",
    "    def predict(self,X):\n",
    "        \"\"\" X is N x D where each row is an example we wish to predict label for \"\"\"\n",
    "        num_test = X.shape[0]\n",
    "\n",
    "        Ypred = np.zeros(num_test,dtype=self.ytr.dtype)\n",
    "\n",
    "        for i in range(num_test):\n",
    "             # using the L1 distance (sum of absolute value differences)\n",
    "            distance = np.sum(np.abs(self.Xtr - X[i:]),axis=1)\n",
    "            min_index = np.argmin(distance)\n",
    "            Ypred[i] = self.ytr[min_index]\n",
    "\n",
    "        return Ypred\n"
   ]
  },
  {
   "cell_type": "markdown",
   "metadata": {},
   "source": [
    "#### Complexidade do algoritmo:\n",
    "- Train = O(1)\n",
    "- Predict = O(n)"
   ]
  },
  {
   "cell_type": "code",
   "execution_count": null,
   "metadata": {},
   "outputs": [
    {
     "data": {
      "text/plain": [
       "14970"
      ]
     },
     "execution_count": 13,
     "metadata": {},
     "output_type": "execute_result"
    }
   ],
   "source": [
    "data = []\n",
    "for fn in glob.glob('shapes/*/*'):\n",
    "    data.append(fn.split('/')[1])\n",
    "\n",
    "len(data)\n",
    "\n"
   ]
  },
  {
   "cell_type": "markdown",
   "metadata": {},
   "source": [
    "### Distance Metric\n",
    "\n",
    "- L1 (Manhattan) Distance:\n",
    "- L2 (Euclidean) distance"
   ]
  }
 ],
 "metadata": {
  "kernelspec": {
   "display_name": "venv",
   "language": "python",
   "name": "python3"
  },
  "language_info": {
   "codemirror_mode": {
    "name": "ipython",
    "version": 3
   },
   "file_extension": ".py",
   "mimetype": "text/x-python",
   "name": "python",
   "nbconvert_exporter": "python",
   "pygments_lexer": "ipython3",
   "version": "3.8.10"
  }
 },
 "nbformat": 4,
 "nbformat_minor": 2
}
