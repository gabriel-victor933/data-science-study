{
 "cells": [
  {
   "cell_type": "markdown",
   "metadata": {},
   "source": [
    "### Arvores de Decisão"
   ]
  },
  {
   "cell_type": "code",
   "execution_count": 1,
   "metadata": {},
   "outputs": [],
   "source": [
    "import numpy as np\n",
    "import matplotlib.pyplot as plt\n",
    "import math\n",
    "from collections import Counter, defaultdict\n",
    "from functools import partial"
   ]
  },
  {
   "cell_type": "code",
   "execution_count": 90,
   "metadata": {},
   "outputs": [
    {
     "name": "stderr",
     "output_type": "stream",
     "text": [
      "/tmp/ipykernel_11173/1506702196.py:2: RuntimeWarning: divide by zero encountered in log2\n",
      "  ys = -xs*np.log2(xs)\n",
      "/tmp/ipykernel_11173/1506702196.py:2: RuntimeWarning: invalid value encountered in multiply\n",
      "  ys = -xs*np.log2(xs)\n"
     ]
    },
    {
     "data": {
      "image/png": "[encoded data removed]",
      "text/plain": [
       "<Figure size 640x480 with 1 Axes>"
      ]
     },
     "metadata": {},
     "output_type": "display_data"
    }
   ],
   "source": [
    "xs = np.arange(0,1,0.01)\n",
    "ys = -xs*np.log2(xs)\n",
    "\n",
    "plt.plot(xs,ys)\n",
    "plt.show()"
   ]
  },
  {
   "cell_type": "code",
   "execution_count": 91,
   "metadata": {},
   "outputs": [],
   "source": [
    "inputs = [\n",
    "    ({'level': 'Senior','lang':'Java','tweets':'no','phd':'no'},False),\n",
    "    ({'level': 'Senior','lang':'Java','tweets':'no','phd':'yes'},False),\n",
    "    ({'level': 'Mid','lang':'Python','tweets':'no','phd':'no'},True),\n",
    "    ({'level': 'Junior','lang':'Python','tweets':'no','phd':'no'},True),\n",
    "    ({'level': 'Junior','lang':'R','tweets':'yes','phd':'no'},True),\n",
    "    ({'level': 'Junior','lang':'R','tweets':'yes','phd':'yes'},False),\n",
    "    ({'level': 'Mid','lang':'R','tweets':'yes','phd':'yes'},True),\n",
    "    ({'level': 'Senior','lang':'Python','tweets':'no','phd':'no'},False),\n",
    "    ({'level': 'Senior','lang':'R','tweets':'yes','phd':'no'},True),\n",
    "    ({'level': 'Junior','lang':'Python','tweets':'yes','phd':'no'},True),\n",
    "    ({'level': 'Senior','lang':'Python','tweets':'yes','phd':'yes'},True),\n",
    "    ({'level': 'Mid','lang':'Python','tweets':'no','phd':'yes'},True),\n",
    "    ({'level': 'Mid','lang':'Java','tweets':'yes','phd':'no'},True),\n",
    "    ({'level': 'Junior','lang':'Python','tweets':'no','phd':'yes'},False),\n",
    "]"
   ]
  },
  {
   "cell_type": "code",
   "execution_count": 92,
   "metadata": {},
   "outputs": [],
   "source": [
    "def entropy(class_probabilities):\n",
    "    return sum(-p*math.log(p,2) for p in class_probabilities if p)\n",
    "\n",
    "def class_probabilities(labels):\n",
    "    total_count = len(labels)\n",
    "    return [count/total_count for count in Counter(labels).values()]\n",
    "\n",
    "def data_entropy(labeled_data):\n",
    "    labels = [label for _,label in labeled_data]\n",
    "    probabilities = class_probabilities(labels)\n",
    "    return entropy(probabilities)\n",
    "\n",
    "def partition_entropy(subsets):\n",
    "    total_count = sum(len(subset) for subset in subsets)\n",
    "    return sum(data_entropy(subset)*len(subset)/total_count for subset in subsets)"
   ]
  },
  {
   "cell_type": "code",
   "execution_count": 93,
   "metadata": {},
   "outputs": [],
   "source": [
    "def partition_by(inputs, attribute):\n",
    "    groups = defaultdict(list)\n",
    "    for input in inputs:\n",
    "        key = input[0][attribute]\n",
    "        groups[key].append(input)\n",
    "    return groups\n",
    "\n",
    "def partition_entropy_by(inputs, attribute):\n",
    "    partitions = partition_by(inputs, attribute)\n",
    "    return partition_entropy(partitions.values())\n"
   ]
  },
  {
   "cell_type": "code",
   "execution_count": 94,
   "metadata": {},
   "outputs": [
    {
     "name": "stdout",
     "output_type": "stream",
     "text": [
      "level 0.6935361388961919\n",
      "lang 0.8601317128547441\n",
      "tweets 0.7884504573082896\n",
      "phd 0.8921589282623617\n",
      "\n",
      "\n",
      "lang 0.4\n",
      "tweets 0.0\n",
      "phd 0.9509775004326938\n",
      "\n",
      "\n",
      "lang 0.0\n",
      "tweets 0.0\n",
      "phd 0.0\n",
      "\n",
      "\n",
      "lang 0.9509775004326938\n",
      "tweets 0.9509775004326938\n",
      "phd 0.0\n"
     ]
    }
   ],
   "source": [
    "for key in ['level','lang','tweets','phd']:\n",
    "    print(key,partition_entropy_by(inputs,key))\n",
    "\n",
    "print('\\n')\n",
    "senior_inputs = [(input,label) for input,label in inputs if input['level'] == 'Senior']\n",
    "\n",
    "for key in ['lang','tweets','phd']:\n",
    "    print(key,partition_entropy_by(senior_inputs,key))\n",
    "\n",
    "\n",
    "print('\\n')\n",
    "mid_inputs = [(input,label) for input,label in inputs if input['level'] == 'Mid']\n",
    "\n",
    "for key in ['lang','tweets','phd']:\n",
    "    print(key,partition_entropy_by(mid_inputs,key))\n",
    "\n",
    "\n",
    "print('\\n')\n",
    "junior_inputs = [(input,label) for input,label in inputs if input['level'] == 'Junior']\n",
    "\n",
    "for key in ['lang','tweets','phd']:\n",
    "    print(key,partition_entropy_by(junior_inputs,key))"
   ]
  },
  {
   "cell_type": "code",
   "execution_count": null,
   "metadata": {},
   "outputs": [],
   "source": [
    "def classify(tree, input):\n",
    "    \n",
    "    if tree in [True,False]:\n",
    "        return tree\n",
    "    \n",
    "    attribute, subtree_dict = tree\n",
    "\n",
    "    subtree_key = input.get(attribute)\n",
    "\n",
    "    if subtree_key not in subtree_dict:\n",
    "        subtree_key = None\n",
    "\n",
    "    subtree = subtree_dict[subtree_key]\n",
    "    \n",
    "    return classify(subtree, input)\n",
    "\n",
    "def build_tree_id3(inputs, split_canditates=None):\n",
    "\n",
    "    if split_canditates is None:\n",
    "        split_canditates = inputs[0][0].keys()\n",
    "\n",
    "    num_inputs = len(inputs)\n",
    "    num_trues = len([label for item, label in inputs if label])\n",
    "    num_falses = num_inputs - num_trues\n",
    "\n",
    "    if num_trues == 0: return False\n",
    "    if num_falses == 0: return True\n",
    "\n",
    "    if not split_canditates:\n",
    "        return num_trues >= num_falses\n",
    "    \n",
    "    best_attribute = min(split_canditates, key=partial(partition_entropy_by,inputs))\n",
    "\n",
    "    partitions = partition_by(inputs, best_attribute)\n",
    "\n",
    "    new_candidates = [a for a in split_canditates if a != best_attribute]\n",
    "\n",
    "    subtrees = { attribute_value: build_tree_id3(subset,new_candidates) \n",
    "                for attribute_value, subset in partitions.items()}\n",
    "\n",
    "    subtrees[None] = num_trues > num_falses\n",
    "\n",
    "    return (best_attribute,subtrees)\n",
    "\n"
   ]
  },
  {
   "cell_type": "code",
   "execution_count": 96,
   "metadata": {},
   "outputs": [
    {
     "name": "stdout",
     "output_type": "stream",
     "text": [
      "True\n"
     ]
    },
    {
     "data": {
      "text/plain": [
       "True"
      ]
     },
     "execution_count": 96,
     "metadata": {},
     "output_type": "execute_result"
    }
   ],
   "source": [
    "tree = build_tree_id3(inputs)\n",
    "\n",
    "\n",
    "classify(tree, {'lang':'Java'})"
   ]
  }
 ],
 "metadata": {
  "kernelspec": {
   "display_name": "venv",
   "language": "python",
   "name": "python3"
  },
  "language_info": {
   "codemirror_mode": {
    "name": "ipython",
    "version": 3
   },
   "file_extension": ".py",
   "mimetype": "text/x-python",
   "name": "python",
   "nbconvert_exporter": "python",
   "pygments_lexer": "ipython3",
   "version": "3.8.10"
  }
 },
 "nbformat": 4,
 "nbformat_minor": 2
}
