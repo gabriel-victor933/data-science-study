{
 "cells": [
  {
   "cell_type": "code",
   "execution_count": 147,
   "metadata": {},
   "outputs": [],
   "source": [
    "from bs4 import BeautifulSoup\n",
    "import requests\n",
    "import re\n",
    "from collections import defaultdict, Counter\n",
    "import random"
   ]
  },
  {
   "cell_type": "code",
   "execution_count": 148,
   "metadata": {},
   "outputs": [],
   "source": [
    "def fix_unicode(text):\n",
    "    return text.replace(u\"\\u2019\",\"\")"
   ]
  },
  {
   "cell_type": "code",
   "execution_count": 149,
   "metadata": {},
   "outputs": [
    {
     "name": "stdout",
     "output_type": "stream",
     "text": [
      "['Im', 'worried', 'about', 'AI', '.', 'Im', 'not', 'worried', 'about', 'it', 'taking', 'my', 'job', '.', 'I', 'believe', 'AI', 'is', 'a', 'genuine', 'productivity', 'tool', '.', 'By', 'which', 'I', 'mean', 'it', 'can', 'make', 'developers', 'produce', 'more', '.', 'Join', 'the', \"O'Reilly\", 'online', 'learning', 'platform', '.', 'Get', 'a', 'free', 'trial', 'today', 'and', 'find', 'answers', 'on', 'the', 'fly', 'or', 'master', 'something', 'new', 'and', 'useful', '.', 'The', 'question', 'is', 'whether', 'those', 'developers', 'are', 'producing', 'something', 'good', 'or', 'not', '.', 'The', 'difference', 'between', 'an', 'experienced', 'developer', 'and', 'a', 'junior', 'is', 'that', 'an', 'experienced', 'developer', 'knows', 'The', 'way', 'we', 'train', 'juniors', 'whether', 'its', 'at', 'university', 'or', 'in', 'a', 'boot', 'camp', 'or', 'whether', 'they', 'train', 'themselves', 'from', 'the', 'materials', 'we', 'make', 'available', 'to', 'them', 'Long', 'Live', 'the', 'Internet', 'we', 'imply', 'from', 'the', 'very', 'beginning', 'that', 'theres', 'a', 'correct', 'answer', '.', 'This', 'is', 'the', 'solution', 'for', 'printing', 'the', 'Fibonacci', 'sequence', 'using', 'recursion', '.', 'Junior', 'developers', 'are', 'trained', 'to', 'think', 'that', 'if', 'the', 'code', 'solves', 'the', 'problem', 'the', 'job', 'is', 'finished', '.', 'However', 'what', 'we', 'do', 'in', 'software', 'development', 'usually', 'hasnt', 'been', 'done', 'before', '.', 'If', 'it', 'has', 'its', 'usually', 'codified', 'into', 'a', 'language', 'framework', 'or', 'library', '.', 'What', 'does', 'this', 'have', 'to', 'do', 'with', 'AI', 'Currently', 'generative', 'AI', 'gives', 'you', 'The', 'Answer', '.', 'As', 'AI', 'improves', 'it', 'will', 'probably', 'even', 'give', 'you', 'an', 'answer', 'that', 'works', '.', 'This', 'is', 'great', 'We', 'no', 'longer', 'need', 'to', 'spend', 'loads', 'of', 'time', 'training', 'developers', 'we', 'can', 'train', 'them', 'to', 'be', 'prompt', 'engineers', 'which', 'makes', 'me', 'think', 'of', 'developers', 'who', 'arrive', 'on', 'time', 'and', 'they', 'will', 'ask', 'the', 'AI', 'for', 'the', 'code', 'and', 'it', 'will', 'deliver', '.', 'But', 'its', 'more', 'complicated', 'than', 'that', '.', 'Assuming', 'the', 'first', 'answer', 'the', 'AI', 'gives', 'us', 'compiles', 'and', 'works', 'it', 'may', 'not', 'match', 'our', 'code', 'style', 'it', 'may', 'not', 'use', 'the', 'libraries', 'and', 'frameworks', 'the', 'team', 'has', 'available', 'to', 'them', 'it', 'may', 'not', 'take', 'into', 'account', 'the', 'peculiarities', 'of', 'the', 'business', 'domain', 'of', 'our', 'specific', 'application', 'it', 'may', 'not', 'meet', 'our', 'performance', 'requirements', '.', 'An', 'experienced', 'developer', 'would', 'spot', 'all', 'of', 'this', 'and', 'either', 'ask', 'the', 'AI', 'to', 'massage', 'the', 'answer', 'into', 'the', 'correct', 'shape', 'or', 'do', 'it', 'themselves', '.', 'A', 'junior', 'developer', 'may', 'be', 'tempted', 'to', 'shoehorn', 'this', 'code', 'into', 'the', 'application', 'in', 'whichever', 'way', 'works', '.', 'I', 'want', 'to', 'be', 'very', 'clear', 'here', '.', 'I', 'do', 'not', 'blame', 'junior', 'developers', 'for', 'this', '.', 'This', 'is', 'part', 'of', 'learning', '.', 'Weve', 'been', 'doing', 'this', 'for', 'decades', '.', 'When', 'I', 'graduated', 'with', 'my', 'computer', 'science', 'degree', 'I', 'was', 'using', 'AltaVista', 'yes', 'I', 'am', 'that', 'old', 'to', 'find', 'solutions', 'to', 'my', 'problems', 'and', 'poking', 'the', 'code', 'until', 'it', 'did', 'what', 'I', 'wanted', 'often', 'in', 'spite', 'of', 'whatever', 'tools', 'frameworks', 'or', 'design', 'patterns', 'we', 'were', 'using', '.', 'Later', 'juniors', 'were', 'using', 'code', 'from', 'Stack', 'Overflow', 'as', 'inspiration', 'blissfully', 'unaware', 'of', 'which', 'lines', 'they', 'pasted', 'into', 'the', 'code', 'base', 'were', 'doing', 'nothing', 'and', 'which', 'were', 'actually', 'relevant', '.', 'These', 'days', 'those', 'pasted', 'lines', 'of', 'code', 'will', 'be', 'code', 'created', 'by', 'generative', 'AI', '.', 'Our', 'responsibility', 'as', 'an', 'industry', 'has', 'always', 'been', 'to', 'steer', 'newly', 'minted', 'developers', 'in', 'the', 'right', 'direction', '.', 'Its', 'always', 'been', 'important', 'for', 'experienced', 'engineers', 'to', 'point', 'out', 'the', 'disadvantages', 'of', 'an', 'approach', 'and', 'to', 'show', 'juniors', 'better', 'or', 'newer', 'ways', 'of', 'doing', 'things', '.', 'I', 'still', 'clearly', 'remember', 'a', 'developer', 'only', 'two', 'years', 'my', 'senior', 'explaining', 'to', 'me', 'why', 'I', 'should', 'be', 'using', 'ArrayList', 'and', 'not', 'Vector', '.', 'Growing', 'as', 'an', 'engineer', 'is', 'not', 'about', 'learning', 'to', 'write', 'more', 'code', 'its', 'about', 'learning', 'which', 'questions', 'to', 'ask', 'what', 'are', 'the', 'compromises', 'and', 'it', 'depends', 'issues', 'and', 'which', 'solutions', 'might', 'be', 'correct', 'ones', 'for', 'a', 'given', 'problem', '.', 'So', 'lets', 'get', 'back', 'to', 'why', 'Im', 'worried', 'about', 'AI', '.', 'Im', 'worried', 'that', 'experienced', 'developers', 'will', 'add', 'it', 'to', 'their', 'arsenal', 'of', 'tools', 'to', 'get', 'the', 'job', 'done', 'just', 'like', 'IDE', 'code', 'completion', 'Stack', 'Overflow', 'and', 'Google', '.', 'They', 'will', 'learn', 'how', 'and', 'when', 'to', 'use', 'it', 'to', 'give', 'them', 'ideas', 'point', 'them', 'in', 'a', 'direction', 'and', 'do', 'the', 'heavy', 'lifting', 'of', 'creating', 'boilerplate', 'or', 'chunks', 'of', 'common', 'code', '.', 'They', 'will', 'learn', 'how', 'to', 'coach', 'the', 'AI', 'to', 'give', 'them', 'better', 'code', 'for', 'some', 'definition', 'of', 'better', 'over', 'time', '.', 'All', 'this', 'time', 'theyre', 'training', 'the', 'AI', 'theyre', 'not', 'training', 'junior', 'developers', '.', 'In', 'fact', 'experienced', 'engineers', 'are', 'being', 'encouraged', 'to', 'train', 'generative', 'AI', 'in', 'a', 'way', 'they', 'were', 'never', 'encouraged', 'to', 'invest', 'time', 'in', 'training', 'juniors', '.', 'And', 'juniorsâ', 'well', 'juniors', 'will', 'assume', 'the', 'AI', 'generated', 'code', 'works', '.', 'The', 'experienced', 'engineers', 'will', 'be', 'so', 'busy', 'training', 'the', 'AI', 'that', 'they', 'wont', 'be', 'helping', 'the', 'juniors', 'level', 'up', '.', 'Juniors', 'wont', 'have', 'the', 'tools', 'to', 'improve', 'and', 'senior', 'developers', 'might', 'spend', 'so', 'much', 'time', 'fixing', 'bugs', 'in', 'poorly', 'implemented', 'code', 'from', 'the', 'juniors', 'that', 'the', 'organization', 'might', 'decide', 'that', 'juniors', 'are', 'not', 'only', 'not', 'needed', 'but', 'actually', 'an', 'undesirable', 'productivity', 'drain', '.', 'Whats', 'the', 'problem', 'Surely', 'whether', 'were', 'training', 'juniors', 'or', 'training', 'the', 'AI', 'the', 'end', 'result', 'is', 'the', 'same', 'Code', 'that', 'works', 'for', 'our', 'problem', '.', 'Sure', 'and', 'as', 'AI', 'gets', 'better', 'perhaps', 'we', 'will', 'rely', 'on', 'it', 'even', 'more', '.', 'And', 'lets', 'say', 'for', 'the', 'sake', 'of', 'argument', 'that', 'AI', 'does', 'improve', 'enough', 'to', 'replace', 'junior', 'developers', '.', 'Will', 'it', 'become', 'good', 'enough', 'to', 'replace', 'experienced', 'developers', 'Maybe', 'but', 'were', 'definitely', 'not', 'there', 'yet', '.', 'If', 'its', 'not', 'good', 'enough', 'to', 'replace', 'experienced', 'developers', 'and', 'architects', 'and', 'if', 'we', 'dont', 'invest', 'in', 'todays', 'juniors', 'we', 'wont', 'have', 'any', 'seniors', 'tomorrow', '.', 'We', 'will', 'need', 'experienced', 'developers', 'for', 'the', 'foreseeable', 'future', 'even', 'if', 'its', 'just', 'to', 'train', 'the', 'AI', 'or', 'help', 'create', 'the', 'next', 'generation', 'of', 'AI', 'tools', '.', 'Beyond', 'the', 'pipeline', 'problem', 'I', 'want', 'to', 'address', 'something', 'that', 'I', 'think', 'is', 'very', 'often', 'overlooked', 'in', 'our', 'industry', '.', 'Developers', 'are', 'not', 'code', 'production', 'machines', '.', 'Our', 'job', 'is', 'not', 'to', 'type', 'code', '.', 'I', 'dont', 'just', 'mean', 'experienced', 'developers', 'I', 'include', 'juniors', 'in', 'this', 'too', '.', 'When', 'I', 'worked', 'in', 'a', 'team', 'that', 'paired', 'regularly', 'when', 'I', 'was', 'a', 'developer', 'with', 'a', 'solid', '10', 'years', 'experience', 'the', 'people', 'who', 'challenged', 'me', 'the', 'most', 'were', 'the', 'juniors', '.', 'Yes', 'I', 'learned', 'a', 'great', 'deal', 'from', 'smart', 'experienced', 'people', 'like', 'Dave', 'Farley', 'and', 'Martin', 'Thompson', '.', 'What', 'I', 'learned', 'from', 'them', 'was', 'often', 'new', 'stuff', 'I', 'didnt', 'already', 'know', 'or', 'they', 'confirmed', 'beliefs', 'and', 'ideas', 'I', 'already', 'had', '.', 'But', 'the', 'juniors', 'they', 'were', 'the', 'ones', 'that', 'really', 'helped', 'me', 'to', 'understand', 'what', 'I', 'cared', 'about', 'and', 'why', 'I', 'did', 'the', 'things', 'I', 'did', '.', 'Juniors', 'really', 'challenge', 'you', 'as', 'a', 'developer', '.', 'Juniors', 'ask', 'great', 'questions', 'Why', 'did', 'you', 'do', 'it', 'that', 'way', 'Why', 'did', 'you', 'reject', 'this', 'idea', 'What', 'are', 'you', 'thinking', 'about', 'when', 'youre', 'trying', 'to', 'decide', 'which', 'of', 'these', 'approaches', 'to', 'take', 'Why', 'is', 'it', 'hard', 'to', 'make', 'this', 'test', 'pass', 'These', 'questions', 'help', 'us', 'to', 'grow', 'as', 'mid', 'and', 'senior', 'level', 'developers', '.', 'Why', 'did', 'we', 'do', 'it', 'that', 'way', 'Is', 'it', 'because', 'once', 'upon', 'a', 'time', 'someone', 'showed', 'us', 'to', 'do', 'it', 'that', 'way', 'and', 'weâ', 've', 'just', 'blindly', 'followed', 'that', 'approach', 'Or', 'did', 'we', 'discover', 'after', 'extensive', 'Googling', 'and', 'searching', 'on', 'Stack', 'Overflow', 'after', 'a', 'lot', 'of', 'trial', 'and', 'error', 'and', 'eventual', 'refinement', 'that', 'this', 'is', 'the', 'best', 'way', 'to', 'do', 'it', 'The', 'answer', 'to', 'that', 'will', 'tell', 'us', 'a', 'lot', 'about', 'how', 'much', 'we', 'understand', 'this', 'thing', 'and', 'whether', 'we', 'understand', 'the', 'trade', 'offs', 'weâ', 're', 'making', 'when', 'we', 'take', 'that', 'route', '.', 'It', 'should', 'also', 'make', 'us', 'think', 'about', 'whether', 'we', 'need', 'to', 'do', 'more', 'research', 'on', 'this', 'approach', 'or', 'toolâ', 'Has', 'it', 'been', 'updated', 'since', 'we', 'learned', 'this', 'approach', 'Is', 'there', 'a', 'newer', 'better', 'faster', 'cleaner', 'way', 'to', 'do', 'the', 'same', 'thing', 'Of', 'course', 'we', 'could', 'just', 'sit', 'there', 'pondering', 'these', 'questions', 'in', 'silence', 'and', 'then', 'carry', 'on', 'doing', 'whatever', 'we', 'were', 'doing', 'or', 'decide', 'to', 'do', 'things', 'differently', '.', 'But', 'verbalizing', 'the', 'inner', 'conversation', 'the', 'doubts', 'or', 'certainties', 'we', 'have', 'about', 'the', 'answers', 'will', 'not', 'only', 'give', 'the', 'junior', 'some', 'insight', 'into', 'our', 'thought', 'processes', 'but', 'help', 'them', 'create', 'their', 'own', 'process', 'for', 'making', 'decisions', '.', 'Itâ', 's', 'perfectly', 'acceptable', 'to', 'say', 'â', 'Iâ', 'm', 'not', 'sure', 'really', '.', 'Iâ', 've', 'just', 'always', 'done', 'it', 'that', 'way', '.', 'Should', 'we', 'do', 'a', 'bit', 'of', 'research', 'on', 'whether', 'thereâ', 's', 'a', 'better', 'way', 'â', 'Or', 'â', 'Well', 'back', 'in', 'my', 'last', 'job', 'we', 'had', 'a', 'limit', 'on', 'the', 'number', 'of', 'open', 'connections', 'so', 'I', 'always', 'close', 'them', 'when', 'I', 'can', '.', 'That', 'doesnâ', 't', 'apply', 'as', 'much', 'here', 'but', 'it', 'seems', 'like', 'a', 'good', 'habit', 'anyway', '.', 'Can', 'you', 'think', 'of', 'a', 'reason', 'not', 'to', 'do', 'this', 'â', 'Itâ', 's', 'good', 'to', 'ask', 'the', 'juniors', 'questions', 'to', 'get', 'them', 'thinking', 'and', 'itâ', 's', 'great', 'to', 'have', 'a', 'two', 'way', 'conversation', 'about', 'trade', 'offs', 'and', 'implementation', 'decisions', '.', 'Goodness', 'knows', 'weâ', 've', 'all', 'been', 'stuck', 'thinking', 'in', 'circles', 'about', 'a', 'problem', 'only', 'to', 'solve', 'it', 'just', 'by', 'asking', 'a', 'question', '.', 'We', 'often', 'donâ', 't', 'even', 'need', 'the', 'answer', 'Seniors', 'know', 'the', 'answer', 'to', 'everything', 'is', 'â', 'it', 'depends', '.', 'â', 'Growing', 'as', 'a', 'developer', 'means', 'discovering', 'more', 'and', 'more', 'things', 'â', 'it', 'dependsâ', 'on', 'being', 'able', 'to', 'spot', 'those', 'things', 'in', 'the', 'code', 'the', 'infrastructure', 'or', 'the', 'organization', 'and', 'asking', 'questions', 'to', 'uncover', 'known', 'unknowns', '.', 'Answering', 'a', 'juniorâ', 's', 'questions', 'or', 'guiding', 'them', 'to', 'their', 'own', 'answer', 'helps', 'them', 'on', 'their', 'own', 'journey', 'to', 'finding', 'out', 'what', 'â', 'it', 'dependsâ', 'on', 'and', 'where', 'to', 'strike', 'the', 'balance', 'in', 'the', 'trade', 'offs', '.', 'It', 'also', 'helps', 'us', 'to', 'better', 'understand', 'our', 'own', 'processes', 'and', 'update', 'them', 'where', 'necessary', '.', 'An', 'AI', 'doesnt', 'ask', 'questions', '.', 'It', 'gives', 'answers', '.', 'With', 'confidence', '.', 'It', 'does', 'not', 'challenge', 'you', '.', 'It', 'bows', 'to', 'your', 'wisdom', 'when', 'you', 'express', 'an', 'opinion', 'and', 'yet', 'also', 'does', 'what', 'the', 'hell', 'it', 'wants', 'to', '.', 'We', 'need', 'the', 'tension', 'between', 'seniors', 'and', 'juniors', '.', 'Thats', 'what', 'helps', 'us', 'all', 'grow', '.', 'As', 'juniors', 'we', 'can', 'ask', 'questions', 'learning', 'for', 'ourselves', 'and', 'helping', 'the', 'seniors', 'challenge', 'their', 'assumptions', '.', 'As', 'seniors', 'we', 'have', 'a', 'lot', 'more', 'experience', 'with', 'the', 'subtleties', 'of', 'why', 'we', 'would', 'choose', 'a', 'specific', 'solution', 'and', 'what', 'preferences', 'we', 'or', 'our', 'team', 'might', 'have', 'on', 'our', 'solution', '.', 'But', 'while', 'we', 'can', 'mould', 'an', 'AI', 'to', 'give', 'us', 'the', 'sort', 'of', 'answer', 'we', 'ourselves', 'might', 'have', 'written', 'the', 'AI', 'is', 'not', 'going', 'to', 'ask', 'us', 'But', 'why', 'do', 'you', 'want', 'to', 'do', 'it', 'that', 'way', 'or', 'What', 'are', 'the', 'issues', 'youre', 'worried', 'about', 'with', 'this', 'solution', 'These', 'questions', 'are', 'the', 'ones', 'we', 'need', 'to', 'grow', 'as', 'individuals', 'to', 'create', 'better', 'code', 'that', 'doesnt', 'only', 'work', 'but', 'meets', 'the', 'requirements', 'of', 'the', 'business', 'the', 'user', 'and', 'the', 'team', 'maintaining', 'the', 'code', '.', 'Creating', 'good', 'software', 'is', 'a', 'team', 'sport', '.', 'I', 'did', 'a', 'video', 'on', 'this', 'topic', 'too', 'https', 'youtu', '.', 'be', 'AK9pFlLJwbQ', 'feature', 'shared', '.', 'Tracking', 'need', 'to', 'know', 'trends', 'at', 'the', 'intersection', 'of', 'business', 'and', 'technology', '.', 'Please', 'read', 'our', 'privacy', 'policy', '.']\n"
     ]
    }
   ],
   "source": [
    "url = \"https://www.oreilly.com/radar/rift-between-junior-and-senior-developers/\"\n",
    "html = requests.get(url).text\n",
    "soup = BeautifulSoup(html, 'html.parser')\n",
    "content = soup.find(\"div\", \"post-radar-content\") # encontra conteúdo de entrada div\n",
    "regex = r\"[\\w']+|[\\.]\"\n",
    "\n",
    "document = []\n",
    "for paragraph in content.find_all('p'):\n",
    "    words = re.findall(regex, fix_unicode(paragraph.text))\n",
    "    document.extend(words)\n",
    "\n",
    "\n",
    "print(document)"
   ]
  },
  {
   "cell_type": "markdown",
   "metadata": {},
   "source": [
    "### Bigrams"
   ]
  },
  {
   "cell_type": "code",
   "execution_count": 150,
   "metadata": {},
   "outputs": [],
   "source": [
    "bigrams = zip(document,document[1:])\n",
    "transitions = defaultdict(list)\n",
    "\n",
    "for prev,current in bigrams:\n",
    "    transitions[prev].append(current)"
   ]
  },
  {
   "cell_type": "code",
   "execution_count": 151,
   "metadata": {},
   "outputs": [
    {
     "data": {
      "text/plain": [
       "'With confidence .'"
      ]
     },
     "execution_count": 151,
     "metadata": {},
     "output_type": "execute_result"
    }
   ],
   "source": [
    "def generate_using_bigrams():\n",
    "    current = '.'\n",
    "    result = [ ]\n",
    "    while True:\n",
    "        next_word_candidates = transitions[current]\n",
    "        current = random.choice(next_word_candidates)\n",
    "        result.append(current)\n",
    "        if current == '.': return \" \".join(result)\n",
    "\n",
    "\n",
    "generate_using_bigrams()"
   ]
  },
  {
   "cell_type": "markdown",
   "metadata": {},
   "source": [
    "### Trigrams"
   ]
  },
  {
   "cell_type": "code",
   "execution_count": 152,
   "metadata": {},
   "outputs": [
    {
     "name": "stdout",
     "output_type": "stream",
     "text": [
      "defaultdict(<class 'list'>, {('Im', 'worried'): ['about', 'about', 'that'], ('worried', 'about'): ['AI', 'it', 'AI', 'with'], ('about', 'AI'): ['.', '.'], ('AI', '.'): ['Im', 'Our', 'Im'], ('.', 'Im'): ['not', 'worried'], ('Im', 'not'): ['worried'], ('not', 'worried'): ['about'], ('about', 'it'): ['taking'], ('it', 'taking'): ['my'], ('taking', 'my'): ['job'], ('my', 'job'): ['.'], ('job', '.'): ['I'], ('.', 'I'): ['believe', 'want', 'do', 'still', 'dont', 'did'], ('I', 'believe'): ['AI'], ('believe', 'AI'): ['is'], ('AI', 'is'): ['a', 'not'], ('is', 'a'): ['genuine', 'team'], ('a', 'genuine'): ['productivity'], ('genuine', 'productivity'): ['tool'], ('productivity', 'tool'): ['.'], ('tool', '.'): ['By'], ('.', 'By'): ['which'], ('By', 'which'): ['I'], ('which', 'I'): ['mean'], ('I', 'mean'): ['it'], ('mean', 'it'): ['can'], ('it', 'can'): ['make'], ('can', 'make'): ['developers'], ('make', 'developers'): ['produce'], ('developers', 'produce'): ['more'], ('produce', 'more'): ['.'], ('more', '.'): ['Join', 'And'], ('.', 'Join'): ['the'], ('Join', 'the'): [\"O'Reilly\"], ('the', \"O'Reilly\"): ['online'], (\"O'Reilly\", 'online'): ['learning'], ('online', 'learning'): ['platform'], ('learning', 'platform'): ['.'], ('platform', '.'): ['Get'], ('.', 'Get'): ['a'], ('Get', 'a'): ['free'], ('a', 'free'): ['trial'], ('free', 'trial'): ['today'], ('trial', 'today'): ['and'], ('today', 'and'): ['find'], ('and', 'find'): ['answers'], ('find', 'answers'): ['on'], ('answers', 'on'): ['the'], ('on', 'the'): ['fly', 'number'], ('the', 'fly'): ['or'], ('fly', 'or'): ['master'], ('or', 'master'): ['something'], ('master', 'something'): ['new'], ('something', 'new'): ['and'], ('new', 'and'): ['useful'], ('and', 'useful'): ['.'], ('useful', '.'): ['The'], ('.', 'The'): ['question', 'difference', 'experienced'], ('The', 'question'): ['is'], ('question', 'is'): ['whether'], ('is', 'whether'): ['those'], ('whether', 'those'): ['developers'], ('those', 'developers'): ['are'], ('developers', 'are'): ['producing', 'trained'], ('are', 'producing'): ['something'], ('producing', 'something'): ['good'], ('something', 'good'): ['or'], ('good', 'or'): ['not'], ('or', 'not'): ['.'], ('not', '.'): ['The'], ('The', 'difference'): ['between'], ('difference', 'between'): ['an'], ('between', 'an'): ['experienced'], ('an', 'experienced'): ['developer', 'developer'], ('experienced', 'developer'): ['and', 'knows', 'would'], ('developer', 'and'): ['a'], ('and', 'a'): ['junior'], ('a', 'junior'): ['is'], ('junior', 'is'): ['that'], ('is', 'that'): ['an'], ('that', 'an'): ['experienced'], ('developer', 'knows'): ['The'], ('knows', 'The'): ['way'], ('The', 'way'): ['we'], ('way', 'we'): ['train'], ('we', 'train'): ['juniors'], ('train', 'juniors'): ['whether'], ('juniors', 'whether'): ['its'], ('whether', 'its'): ['at'], ('its', 'at'): ['university'], ('at', 'university'): ['or'], ('university', 'or'): ['in'], ('or', 'in'): ['a'], ('in', 'a'): ['boot', 'direction', 'way', 'team'], ('a', 'boot'): ['camp'], ('boot', 'camp'): ['or'], ('camp', 'or'): ['whether'], ('or', 'whether'): ['they'], ('whether', 'they'): ['train'], ('they', 'train'): ['themselves'], ('train', 'themselves'): ['from'], ('themselves', 'from'): ['the'], ('from', 'the'): ['materials', 'very', 'juniors'], ('the', 'materials'): ['we'], ('materials', 'we'): ['make'], ('we', 'make'): ['available'], ('make', 'available'): ['to'], ('available', 'to'): ['them', 'them'], ('to', 'them'): ['Long', 'it'], ('them', 'Long'): ['Live'], ('Long', 'Live'): ['the'], ('Live', 'the'): ['Internet'], ('the', 'Internet'): ['we'], ('Internet', 'we'): ['imply'], ('we', 'imply'): ['from'], ('imply', 'from'): ['the'], ('the', 'very'): ['beginning'], ('very', 'beginning'): ['that'], ('beginning', 'that'): ['theres'], ('that', 'theres'): ['a'], ('theres', 'a'): ['correct'], ('a', 'correct'): ['answer'], ('correct', 'answer'): ['.'], ('answer', '.'): ['This'], ('.', 'This'): ['is', 'is', 'is'], ('This', 'is'): ['the', 'great', 'part'], ('is', 'the'): ['solution', 'same', 'best'], ('the', 'solution'): ['for'], ('solution', 'for'): ['printing'], ('for', 'printing'): ['the'], ('printing', 'the'): ['Fibonacci'], ('the', 'Fibonacci'): ['sequence'], ('Fibonacci', 'sequence'): ['using'], ('sequence', 'using'): ['recursion'], ('using', 'recursion'): ['.'], ('recursion', '.'): ['Junior'], ('.', 'Junior'): ['developers'], ('Junior', 'developers'): ['are'], ('are', 'trained'): ['to'], ('trained', 'to'): ['think'], ('to', 'think'): ['that'], ('think', 'that'): ['if'], ('that', 'if'): ['the'], ('if', 'the'): ['code'], ('the', 'code'): ['solves', 'and', 'until', 'base', 'the', '.'], ('code', 'solves'): ['the'], ('solves', 'the'): ['problem'], ('the', 'problem'): ['the', 'Surely'], ('problem', 'the'): ['job'], ('the', 'job'): ['is', 'done'], ('job', 'is'): ['finished', 'not'], ('is', 'finished'): ['.'], ('finished', '.'): ['However'], ('.', 'However'): ['what'], ('However', 'what'): ['we'], ('what', 'we'): ['do'], ('we', 'do'): ['in', 'it', 'a'], ('do', 'in'): ['software'], ('in', 'software'): ['development'], ('software', 'development'): ['usually'], ('development', 'usually'): ['hasnt'], ('usually', 'hasnt'): ['been'], ('hasnt', 'been'): ['done'], ('been', 'done'): ['before'], ('done', 'before'): ['.'], ('before', '.'): ['If'], ('.', 'If'): ['it', 'its'], ('If', 'it'): ['has'], ('it', 'has'): ['its'], ('has', 'its'): ['usually'], ('its', 'usually'): ['codified'], ('usually', 'codified'): ['into'], ('codified', 'into'): ['a'], ('into', 'a'): ['language'], ('a', 'language'): ['framework'], ('language', 'framework'): ['or'], ('framework', 'or'): ['library'], ('or', 'library'): ['.'], ('library', '.'): ['What'], ('.', 'What'): ['does', 'I'], ('What', 'does'): ['this'], ('does', 'this'): ['have'], ('this', 'have'): ['to'], ('have', 'to'): ['do'], ('to', 'do'): ['with', 'it', 'it', 'more', 'the', 'things', 'this', 'it'], ('do', 'with'): ['AI'], ('with', 'AI'): ['Currently'], ('AI', 'Currently'): ['generative'], ('Currently', 'generative'): ['AI'], ('generative', 'AI'): ['gives', '.', 'in'], ('AI', 'gives'): ['you', 'us'], ('gives', 'you'): ['The'], ('you', 'The'): ['Answer'], ('The', 'Answer'): ['.'], ('Answer', '.'): ['As'], ('.', 'As'): ['AI', 'juniors', 'seniors'], ('As', 'AI'): ['improves'], ('AI', 'improves'): ['it'], ('improves', 'it'): ['will'], ('it', 'will'): ['probably', 'deliver'], ('will', 'probably'): ['even'], ('probably', 'even'): ['give'], ('even', 'give'): ['you'], ('give', 'you'): ['an'], ('you', 'an'): ['answer'], ('an', 'answer'): ['that'], ('answer', 'that'): ['works'], ('that', 'works'): ['.', 'for'], ('works', '.'): ['This', 'I', 'The'], ('is', 'great'): ['We'], ('great', 'We'): ['no'], ('We', 'no'): ['longer'], ('no', 'longer'): ['need'], ('longer', 'need'): ['to'], ('need', 'to'): ['spend', 'do', 'grow', 'know'], ('to', 'spend'): ['loads'], ('spend', 'loads'): ['of'], ('loads', 'of'): ['time'], ('of', 'time'): ['training'], ('time', 'training'): ['developers'], ('training', 'developers'): ['we'], ('developers', 'we'): ['can'], ('we', 'can'): ['train', 'ask', 'mould'], ('can', 'train'): ['them'], ('train', 'them'): ['to'], ('them', 'to'): ['be', 'their'], ('to', 'be'): ['prompt', 'very'], ('be', 'prompt'): ['engineers'], ('prompt', 'engineers'): ['which'], ('engineers', 'which'): ['makes'], ('which', 'makes'): ['me'], ('makes', 'me'): ['think'], ('me', 'think'): ['of'], ('think', 'of'): ['developers', 'a'], ('of', 'developers'): ['who'], ('developers', 'who'): ['arrive'], ('who', 'arrive'): ['on'], ('arrive', 'on'): ['time'], ('on', 'time'): ['and'], ('time', 'and'): ['they'], ('and', 'they'): ['will'], ('they', 'will'): ['ask'], ('will', 'ask'): ['the'], ('ask', 'the'): ['AI', 'AI', 'juniors'], ('the', 'AI'): ['for', 'gives', 'to', 'to', 'theyre', 'generated', 'that', 'the', 'or', 'is'], ('AI', 'for'): ['the'], ('for', 'the'): ['code', 'sake', 'foreseeable'], ('code', 'and'): ['it'], ('and', 'it'): ['will', 'depends'], ('will', 'deliver'): ['.'], ('deliver', '.'): ['But'], ('.', 'But'): ['its', 'the', 'verbalizing', 'while'], ('But', 'its'): ['more'], ('its', 'more'): ['complicated'], ('more', 'complicated'): ['than'], ('complicated', 'than'): ['that'], ('than', 'that'): ['.'], ('that', '.'): ['Assuming'], ('.', 'Assuming'): ['the'], ('Assuming', 'the'): ['first'], ('the', 'first'): ['answer'], ('first', 'answer'): ['the'], ('answer', 'the'): ['AI'], ('gives', 'us'): ['compiles'], ('us', 'compiles'): ['and'], ('compiles', 'and'): ['works'], ('and', 'works'): ['it'], ('works', 'it'): ['may'], ('it', 'may'): ['not', 'not', 'not', 'not'], ('may', 'not'): ['match', 'use', 'take', 'meet'], ('not', 'match'): ['our'], ('match', 'our'): ['code'], ('our', 'code'): ['style'], ('code', 'style'): ['it'], ('style', 'it'): ['may'], ('not', 'use'): ['the'], ('use', 'the'): ['libraries'], ('the', 'libraries'): ['and'], ('libraries', 'and'): ['frameworks'], ('and', 'frameworks'): ['the'], ('frameworks', 'the'): ['team'], ('the', 'team'): ['has', 'maintaining'], ('team', 'has'): ['available'], ('has', 'available'): ['to'], ('them', 'it'): ['may'], ('not', 'take'): ['into'], ('take', 'into'): ['account'], ('into', 'account'): ['the'], ('account', 'the'): ['peculiarities'], ('the', 'peculiarities'): ['of'], ('peculiarities', 'of'): ['the'], ('of', 'the'): ['business', 'business'], ('the', 'business'): ['domain', 'the'], ('business', 'domain'): ['of'], ('domain', 'of'): ['our'], ('of', 'our'): ['specific'], ('our', 'specific'): ['application'], ('specific', 'application'): ['it'], ('application', 'it'): ['may'], ('not', 'meet'): ['our'], ('meet', 'our'): ['performance'], ('our', 'performance'): ['requirements'], ('performance', 'requirements'): ['.'], ('requirements', '.'): ['An'], ('.', 'An'): ['experienced', 'AI'], ('An', 'experienced'): ['developer'], ('developer', 'would'): ['spot'], ('would', 'spot'): ['all'], ('spot', 'all'): ['of'], ('all', 'of'): ['this'], ('of', 'this'): ['and'], ('this', 'and'): ['either'], ('and', 'either'): ['ask'], ('either', 'ask'): ['the'], ('AI', 'to'): ['massage', 'give', 'give'], ('to', 'massage'): ['the'], ('massage', 'the'): ['answer'], ('the', 'answer'): ['into', 'Seniors', 'to'], ('answer', 'into'): ['the'], ('into', 'the'): ['correct', 'application', 'code'], ('the', 'correct'): ['shape'], ('correct', 'shape'): ['or'], ('shape', 'or'): ['do'], ('or', 'do'): ['it'], ('do', 'it'): ['themselves', 'that', 'that', 'that', 'The', 'that'], ('it', 'themselves'): ['.'], ('themselves', '.'): ['A'], ('.', 'A'): ['junior'], ('A', 'junior'): ['developer'], ('junior', 'developer'): ['may'], ('developer', 'may'): ['be'], ('may', 'be'): ['tempted'], ('be', 'tempted'): ['to'], ('tempted', 'to'): ['shoehorn'], ('to', 'shoehorn'): ['this'], ('shoehorn', 'this'): ['code'], ('this', 'code'): ['into'], ('code', 'into'): ['the'], ('the', 'application'): ['in'], ('application', 'in'): ['whichever'], ('in', 'whichever'): ['way'], ('whichever', 'way'): ['works'], ('way', 'works'): ['.'], ('I', 'want'): ['to', 'to'], ('want', 'to'): ['be', 'address', 'do'], ('be', 'very'): ['clear'], ('very', 'clear'): ['here'], ('clear', 'here'): ['.'], ('here', '.'): ['I'], ('I', 'do'): ['not'], ('do', 'not'): ['blame'], ('not', 'blame'): ['junior'], ('blame', 'junior'): ['developers'], ('junior', 'developers'): ['for', '.', '.'], ('developers', 'for'): ['this', 'the'], ('for', 'this'): ['.'], ('this', '.'): ['This'], ('is', 'part'): ['of'], ('part', 'of'): ['learning'], ('of', 'learning'): ['.'], ('learning', '.'): ['Weve'], ('.', 'Weve'): ['been'], ('Weve', 'been'): ['doing'], ('been', 'doing'): ['this'], ('doing', 'this'): ['for'], ('this', 'for'): ['decades'], ('for', 'decades'): ['.'], ('decades', '.'): ['When'], ('.', 'When'): ['I', 'I'], ('When', 'I'): ['graduated', 'worked'], ('I', 'graduated'): ['with'], ('graduated', 'with'): ['my'], ('with', 'my'): ['computer'], ('my', 'computer'): ['science'], ('computer', 'science'): ['degree'], ('science', 'degree'): ['I'], ('degree', 'I'): ['was'], ('I', 'was'): ['using', 'a'], ('was', 'using'): ['AltaVista'], ('using', 'AltaVista'): ['yes'], ('AltaVista', 'yes'): ['I'], ('yes', 'I'): ['am'], ('I', 'am'): ['that'], ('am', 'that'): ['old'], ('that', 'old'): ['to'], ('old', 'to'): ['find'], ('to', 'find'): ['solutions'], ('find', 'solutions'): ['to'], ('solutions', 'to'): ['my'], ('to', 'my'): ['problems'], ('my', 'problems'): ['and'], ('problems', 'and'): ['poking'], ('and', 'poking'): ['the'], ('poking', 'the'): ['code'], ('code', 'until'): ['it'], ('until', 'it'): ['did'], ('it', 'did'): ['what'], ('did', 'what'): ['I'], ('what', 'I'): ['wanted', 'cared'], ('I', 'wanted'): ['often'], ('wanted', 'often'): ['in'], ('often', 'in'): ['spite'], ('in', 'spite'): ['of'], ('spite', 'of'): ['whatever'], ('of', 'whatever'): ['tools'], ('whatever', 'tools'): ['frameworks'], ('tools', 'frameworks'): ['or'], ('frameworks', 'or'): ['design'], ('or', 'design'): ['patterns'], ('design', 'patterns'): ['we'], ('patterns', 'we'): ['were'], ('we', 'were'): ['using', 'doing'], ('were', 'using'): ['.', 'code'], ('using', '.'): ['Later'], ('.', 'Later'): ['juniors'], ('Later', 'juniors'): ['were'], ('juniors', 'were'): ['using'], ('using', 'code'): ['from'], ('code', 'from'): ['Stack', 'the'], ('from', 'Stack'): ['Overflow'], ('Stack', 'Overflow'): ['as', 'and', 'after'], ('Overflow', 'as'): ['inspiration'], ('as', 'inspiration'): ['blissfully'], ('inspiration', 'blissfully'): ['unaware'], ('blissfully', 'unaware'): ['of'], ('unaware', 'of'): ['which'], ('of', 'which'): ['lines'], ('which', 'lines'): ['they'], ('lines', 'they'): ['pasted'], ('they', 'pasted'): ['into'], ('pasted', 'into'): ['the'], ('code', 'base'): ['were'], ('base', 'were'): ['doing'], ('were', 'doing'): ['nothing', 'or'], ('doing', 'nothing'): ['and'], ('nothing', 'and'): ['which'], ('and', 'which'): ['were', 'solutions'], ('which', 'were'): ['actually'], ('were', 'actually'): ['relevant'], ('actually', 'relevant'): ['.'], ('relevant', '.'): ['These'], ('.', 'These'): ['days'], ('These', 'days'): ['those'], ('days', 'those'): ['pasted'], ('those', 'pasted'): ['lines'], ('pasted', 'lines'): ['of'], ('lines', 'of'): ['code'], ('of', 'code'): ['will'], ('code', 'will'): ['be'], ('will', 'be'): ['code', 'so'], ('be', 'code'): ['created'], ('code', 'created'): ['by'], ('created', 'by'): ['generative'], ('by', 'generative'): ['AI'], ('.', 'Our'): ['responsibility', 'job'], ('Our', 'responsibility'): ['as'], ('responsibility', 'as'): ['an'], ('as', 'an'): ['industry', 'engineer'], ('an', 'industry'): ['has'], ('industry', 'has'): ['always'], ('has', 'always'): ['been'], ('always', 'been'): ['to', 'important'], ('been', 'to'): ['steer'], ('to', 'steer'): ['newly'], ('steer', 'newly'): ['minted'], ('newly', 'minted'): ['developers'], ('minted', 'developers'): ['in'], ('developers', 'in'): ['the'], ('in', 'the'): ['right', 'code', 'trade'], ('the', 'right'): ['direction'], ('right', 'direction'): ['.'], ('direction', '.'): ['Its'], ('.', 'Its'): ['always'], ('Its', 'always'): ['been'], ('been', 'important'): ['for'], ('important', 'for'): ['experienced'], ('for', 'experienced'): ['engineers'], ('experienced', 'engineers'): ['to', 'are', 'will'], ('engineers', 'to'): ['point'], ('to', 'point'): ['out'], ('point', 'out'): ['the'], ('out', 'the'): ['disadvantages'], ('the', 'disadvantages'): ['of'], ('disadvantages', 'of'): ['an'], ('of', 'an'): ['approach'], ('an', 'approach'): ['and'], ('approach', 'and'): ['to'], ('and', 'to'): ['show'], ('to', 'show'): ['juniors'], ('show', 'juniors'): ['better'], ('juniors', 'better'): ['or'], ('better', 'or'): ['newer'], ('or', 'newer'): ['ways'], ('newer', 'ways'): ['of'], ('ways', 'of'): ['doing'], ('of', 'doing'): ['things'], ('doing', 'things'): ['.'], ('things', '.'): ['I'], ('I', 'still'): ['clearly'], ('still', 'clearly'): ['remember'], ('clearly', 'remember'): ['a'], ('remember', 'a'): ['developer'], ('a', 'developer'): ['only', 'with', '.', 'means'], ('developer', 'only'): ['two'], ('only', 'two'): ['years'], ('two', 'years'): ['my'], ('years', 'my'): ['senior'], ('my', 'senior'): ['explaining'], ('senior', 'explaining'): ['to'], ('explaining', 'to'): ['me'], ('to', 'me'): ['why'], ('me', 'why'): ['I'], ('why', 'I'): ['should', 'did'], ('I', 'should'): ['be'], ('should', 'be'): ['using'], ('be', 'using'): ['ArrayList'], ('using', 'ArrayList'): ['and'], ('ArrayList', 'and'): ['not'], ('and', 'not'): ['Vector'], ('not', 'Vector'): ['.'], ('Vector', '.'): ['Growing'], ('.', 'Growing'): ['as'], ('Growing', 'as'): ['an', 'a'], ('an', 'engineer'): ['is'], ('engineer', 'is'): ['not'], ('is', 'not'): ['about', 'to', 'going'], ('not', 'about'): ['learning'], ('about', 'learning'): ['to', 'which'], ('learning', 'to'): ['write'], ('to', 'write'): ['more'], ('write', 'more'): ['code'], ('more', 'code'): ['its'], ('code', 'its'): ['about'], ('its', 'about'): ['learning'], ('learning', 'which'): ['questions'], ('which', 'questions'): ['to'], ('questions', 'to'): ['ask', 'get', 'uncover'], ('to', 'ask'): ['what', 'the', 'us'], ('ask', 'what'): ['are'], ('what', 'are'): ['the'], ('are', 'the'): ['compromises', 'issues', 'ones'], ('the', 'compromises'): ['and'], ('compromises', 'and'): ['it'], ('it', 'depends'): ['issues', '.'], ('depends', 'issues'): ['and'], ('issues', 'and'): ['which'], ('which', 'solutions'): ['might'], ('solutions', 'might'): ['be'], ('might', 'be'): ['correct'], ('be', 'correct'): ['ones'], ('correct', 'ones'): ['for'], ('ones', 'for'): ['a'], ('for', 'a'): ['given'], ('a', 'given'): ['problem'], ('given', 'problem'): ['.'], ('problem', '.'): ['So', 'Sure'], ('.', 'So'): ['lets'], ('So', 'lets'): ['get'], ('lets', 'get'): ['back'], ('get', 'back'): ['to'], ('back', 'to'): ['why'], ('to', 'why'): ['Im'], ('why', 'Im'): ['worried'], ('worried', 'that'): ['experienced'], ('that', 'experienced'): ['developers'], ('experienced', 'developers'): ['will', 'Maybe', 'and', 'for', 'I'], ('developers', 'will'): ['add'], ('will', 'add'): ['it'], ('add', 'it'): ['to'], ('it', 'to'): ['their', 'give'], ('to', 'their'): ['arsenal', 'own'], ('their', 'arsenal'): ['of'], ('arsenal', 'of'): ['tools'], ('of', 'tools'): ['to'], ('tools', 'to'): ['get', 'improve'], ('to', 'get'): ['the', 'them'], ('get', 'the'): ['job'], ('job', 'done'): ['just'], ('done', 'just'): ['like'], ('just', 'like'): ['IDE'], ('like', 'IDE'): ['code'], ('IDE', 'code'): ['completion'], ('code', 'completion'): ['Stack'], ('completion', 'Stack'): ['Overflow'], ('Overflow', 'and'): ['Google'], ('and', 'Google'): ['.'], ('Google', '.'): ['They'], ('.', 'They'): ['will', 'will'], ('They', 'will'): ['learn', 'learn'], ('will', 'learn'): ['how', 'how'], ('learn', 'how'): ['and', 'to'], ('how', 'and'): ['when'], ('and', 'when'): ['to'], ('when', 'to'): ['use'], ('to', 'use'): ['it'], ('use', 'it'): ['to'], ('to', 'give'): ['them', 'them', 'us'], ('give', 'them'): ['ideas', 'better'], ('them', 'ideas'): ['point'], ('ideas', 'point'): ['them'], ('point', 'them'): ['in'], ('them', 'in'): ['a'], ('a', 'direction'): ['and'], ('direction', 'and'): ['do'], ('and', 'do'): ['the'], ('do', 'the'): ['heavy', 'same'], ('the', 'heavy'): ['lifting'], ('heavy', 'lifting'): ['of'], ('lifting', 'of'): ['creating'], ('of', 'creating'): ['boilerplate'], ('creating', 'boilerplate'): ['or'], ('boilerplate', 'or'): ['chunks'], ('or', 'chunks'): ['of'], ('chunks', 'of'): ['common'], ('of', 'common'): ['code'], ('common', 'code'): ['.'], ('code', '.'): ['They', 'I', 'Creating'], ('how', 'to'): ['coach'], ('to', 'coach'): ['the'], ('coach', 'the'): ['AI'], ('them', 'better'): ['code'], ('better', 'code'): ['for', 'that'], ('code', 'for'): ['some'], ('for', 'some'): ['definition'], ('some', 'definition'): ['of'], ('definition', 'of'): ['better'], ('of', 'better'): ['over'], ('better', 'over'): ['time'], ('over', 'time'): ['.'], ('time', '.'): ['All'], ('.', 'All'): ['this'], ('All', 'this'): ['time'], ('this', 'time'): ['theyre'], ('time', 'theyre'): ['training'], ('theyre', 'training'): ['the'], ('training', 'the'): ['AI', 'AI', 'AI'], ('AI', 'theyre'): ['not'], ('theyre', 'not'): ['training'], ('not', 'training'): ['junior'], ('training', 'junior'): ['developers'], ('developers', '.'): ['In', 'Will', 'Why'], ('.', 'In'): ['fact'], ('In', 'fact'): ['experienced'], ('fact', 'experienced'): ['engineers'], ('engineers', 'are'): ['being'], ('are', 'being'): ['encouraged'], ('being', 'encouraged'): ['to'], ('encouraged', 'to'): ['train', 'invest'], ('to', 'train'): ['generative', 'the'], ('train', 'generative'): ['AI'], ('AI', 'in'): ['a'], ('a', 'way'): ['they'], ('way', 'they'): ['were'], ('they', 'were'): ['never', 'the'], ('were', 'never'): ['encouraged'], ('never', 'encouraged'): ['to'], ('to', 'invest'): ['time'], ('invest', 'time'): ['in'], ('time', 'in'): ['training'], ('in', 'training'): ['juniors'], ('training', 'juniors'): ['.', 'or'], ('juniors', '.'): ['And', 'Yes', 'Thats'], ('.', 'And'): ['juniorsâ', 'lets'], ('And', 'juniorsâ'): ['well'], ('juniorsâ', 'well'): ['juniors'], ('well', 'juniors'): ['will'], ('juniors', 'will'): ['assume'], ('will', 'assume'): ['the'], ('assume', 'the'): ['AI'], ('AI', 'generated'): ['code'], ('generated', 'code'): ['works'], ('code', 'works'): ['.'], ('The', 'experienced'): ['engineers'], ('engineers', 'will'): ['be'], ('be', 'so'): ['busy'], ('so', 'busy'): ['training'], ('busy', 'training'): ['the'], ('AI', 'that'): ['they'], ('that', 'they'): ['wont'], ('they', 'wont'): ['be'], ('wont', 'be'): ['helping'], ('be', 'helping'): ['the'], ('helping', 'the'): ['juniors', 'seniors'], ('the', 'juniors'): ['level', 'that', '.', 'they', 'questions'], ('juniors', 'level'): ['up'], ('level', 'up'): ['.'], ('up', '.'): ['Juniors'], ('.', 'Juniors'): ['wont', 'really', 'ask'], ('Juniors', 'wont'): ['have'], ('wont', 'have'): ['the', 'any'], ('have', 'the'): ['tools'], ('the', 'tools'): ['to'], ('to', 'improve'): ['and'], ('improve', 'and'): ['senior'], ('and', 'senior'): ['developers', 'level'], ('senior', 'developers'): ['might'], ('developers', 'might'): ['spend'], ('might', 'spend'): ['so'], ('spend', 'so'): ['much'], ('so', 'much'): ['time'], ('much', 'time'): ['fixing'], ('time', 'fixing'): ['bugs'], ('fixing', 'bugs'): ['in'], ('bugs', 'in'): ['poorly'], ('in', 'poorly'): ['implemented'], ('poorly', 'implemented'): ['code'], ('implemented', 'code'): ['from'], ('juniors', 'that'): ['the'], ('that', 'the'): ['organization'], ('the', 'organization'): ['might', 'and'], ('organization', 'might'): ['decide'], ('might', 'decide'): ['that'], ('decide', 'that'): ['juniors'], ('that', 'juniors'): ['are'], ('juniors', 'are'): ['not'], ('are', 'not'): ['only', 'code'], ('not', 'only'): ['not', 'give'], ('only', 'not'): ['needed'], ('not', 'needed'): ['but'], ('needed', 'but'): ['actually'], ('but', 'actually'): ['an'], ('actually', 'an'): ['undesirable'], ('an', 'undesirable'): ['productivity'], ('undesirable', 'productivity'): ['drain'], ('productivity', 'drain'): ['.'], ('drain', '.'): ['Whats'], ('.', 'Whats'): ['the'], ('Whats', 'the'): ['problem'], ('problem', 'Surely'): ['whether'], ('Surely', 'whether'): ['were'], ('whether', 'were'): ['training'], ('were', 'training'): ['juniors'], ('juniors', 'or'): ['training'], ('or', 'training'): ['the'], ('AI', 'the'): ['end'], ('the', 'end'): ['result'], ('end', 'result'): ['is'], ('result', 'is'): ['the'], ('the', 'same'): ['Code', 'thing'], ('same', 'Code'): ['that'], ('Code', 'that'): ['works'], ('works', 'for'): ['our'], ('for', 'our'): ['problem'], ('our', 'problem'): ['.'], ('.', 'Sure'): ['and'], ('Sure', 'and'): ['as'], ('and', 'as'): ['AI'], ('as', 'AI'): ['gets'], ('AI', 'gets'): ['better'], ('gets', 'better'): ['perhaps'], ('better', 'perhaps'): ['we'], ('perhaps', 'we'): ['will'], ('we', 'will'): ['rely'], ('will', 'rely'): ['on'], ('rely', 'on'): ['it'], ('on', 'it'): ['even'], ('it', 'even'): ['more'], ('even', 'more'): ['.'], ('And', 'lets'): ['say'], ('lets', 'say'): ['for'], ('say', 'for'): ['the'], ('the', 'sake'): ['of'], ('sake', 'of'): ['argument'], ('of', 'argument'): ['that'], ('argument', 'that'): ['AI'], ('that', 'AI'): ['does'], ('AI', 'does'): ['improve'], ('does', 'improve'): ['enough'], ('improve', 'enough'): ['to'], ('enough', 'to'): ['replace', 'replace', 'replace'], ('to', 'replace'): ['junior', 'experienced', 'experienced'], ('replace', 'junior'): ['developers'], ('.', 'Will'): ['it'], ('Will', 'it'): ['become'], ('it', 'become'): ['good'], ('become', 'good'): ['enough'], ('good', 'enough'): ['to', 'to'], ('replace', 'experienced'): ['developers', 'developers'], ('developers', 'Maybe'): ['but'], ('Maybe', 'but'): ['were'], ('but', 'were'): ['definitely'], ('were', 'definitely'): ['not'], ('definitely', 'not'): ['there'], ('not', 'there'): ['yet'], ('there', 'yet'): ['.'], ('yet', '.'): ['If'], ('If', 'its'): ['not'], ('its', 'not'): ['good'], ('not', 'good'): ['enough'], ('developers', 'and'): ['architects'], ('and', 'architects'): ['and'], ('architects', 'and'): ['if'], ('and', 'if'): ['we'], ('if', 'we'): ['dont'], ('we', 'dont'): ['invest'], ('dont', 'invest'): ['in'], ('invest', 'in'): ['todays'], ('in', 'todays'): ['juniors'], ('todays', 'juniors'): ['we'], ('juniors', 'we'): ['wont', 'can'], ('we', 'wont'): ['have'], ('have', 'any'): ['seniors'], ('any', 'seniors'): ['tomorrow'], ('seniors', 'tomorrow'): ['.'], ('tomorrow', '.'): ['We'], ('.', 'We'): ['will', 'often', 'need'], ('We', 'will'): ['need'], ('will', 'need'): ['experienced'], ('need', 'experienced'): ['developers'], ('the', 'foreseeable'): ['future'], ('foreseeable', 'future'): ['even'], ('future', 'even'): ['if'], ('even', 'if'): ['its'], ('if', 'its'): ['just'], ('its', 'just'): ['to'], ('just', 'to'): ['train'], ('train', 'the'): ['AI'], ('AI', 'or'): ['help'], ('or', 'help'): ['create'], ('help', 'create'): ['the'], ('create', 'the'): ['next'], ('the', 'next'): ['generation'], ('next', 'generation'): ['of'], ('generation', 'of'): ['AI'], ('of', 'AI'): ['tools'], ('AI', 'tools'): ['.'], ('tools', '.'): ['Beyond'], ('.', 'Beyond'): ['the'], ('Beyond', 'the'): ['pipeline'], ('the', 'pipeline'): ['problem'], ('pipeline', 'problem'): ['I'], ('problem', 'I'): ['want'], ('to', 'address'): ['something'], ('address', 'something'): ['that'], ('something', 'that'): ['I'], ('that', 'I'): ['think'], ('I', 'think'): ['is'], ('think', 'is'): ['very'], ('is', 'very'): ['often'], ('very', 'often'): ['overlooked'], ('often', 'overlooked'): ['in'], ('overlooked', 'in'): ['our'], ('in', 'our'): ['industry'], ('our', 'industry'): ['.'], ('industry', '.'): ['Developers'], ('.', 'Developers'): ['are'], ('Developers', 'are'): ['not'], ('not', 'code'): ['production'], ('code', 'production'): ['machines'], ('production', 'machines'): ['.'], ('machines', '.'): ['Our'], ('Our', 'job'): ['is'], ('not', 'to'): ['type', 'do'], ('to', 'type'): ['code'], ('type', 'code'): ['.'], ('I', 'dont'): ['just'], ('dont', 'just'): ['mean'], ('just', 'mean'): ['experienced'], ('mean', 'experienced'): ['developers'], ('developers', 'I'): ['include'], ('I', 'include'): ['juniors'], ('include', 'juniors'): ['in'], ('juniors', 'in'): ['this'], ('in', 'this'): ['too'], ('this', 'too'): ['.'], ('too', '.'): ['When'], ('I', 'worked'): ['in'], ('worked', 'in'): ['a'], ('a', 'team'): ['that', 'sport'], ('team', 'that'): ['paired'], ('that', 'paired'): ['regularly'], ('paired', 'regularly'): ['when'], ('regularly', 'when'): ['I'], ('when', 'I'): ['was', 'can'], ('was', 'a'): ['developer'], ('developer', 'with'): ['a'], ('with', 'a'): ['solid'], ('a', 'solid'): ['10'], ('solid', '10'): ['years'], ('10', 'years'): ['experience'], ('years', 'experience'): ['the'], ('experience', 'the'): ['people'], ('the', 'people'): ['who'], ('people', 'who'): ['challenged'], ('who', 'challenged'): ['me'], ('challenged', 'me'): ['the'], ('me', 'the'): ['most'], ('the', 'most'): ['were'], ('most', 'were'): ['the'], ('were', 'the'): ['juniors', 'ones'], ('.', 'Yes'): ['I'], ('Yes', 'I'): ['learned'], ('I', 'learned'): ['a', 'from'], ('learned', 'a'): ['great'], ('a', 'great'): ['deal'], ('great', 'deal'): ['from'], ('deal', 'from'): ['smart'], ('from', 'smart'): ['experienced'], ('smart', 'experienced'): ['people'], ('experienced', 'people'): ['like'], ('people', 'like'): ['Dave'], ('like', 'Dave'): ['Farley'], ('Dave', 'Farley'): ['and'], ('Farley', 'and'): ['Martin'], ('and', 'Martin'): ['Thompson'], ('Martin', 'Thompson'): ['.'], ('Thompson', '.'): ['What'], ('What', 'I'): ['learned'], ('learned', 'from'): ['them'], ('from', 'them'): ['was'], ('them', 'was'): ['often'], ('was', 'often'): ['new'], ('often', 'new'): ['stuff'], ('new', 'stuff'): ['I'], ('stuff', 'I'): ['didnt'], ('I', 'didnt'): ['already'], ('didnt', 'already'): ['know'], ('already', 'know'): ['or'], ('know', 'or'): ['they'], ('or', 'they'): ['confirmed'], ('they', 'confirmed'): ['beliefs'], ('confirmed', 'beliefs'): ['and'], ('beliefs', 'and'): ['ideas'], ('and', 'ideas'): ['I'], ('ideas', 'I'): ['already'], ('I', 'already'): ['had'], ('already', 'had'): ['.'], ('had', '.'): ['But'], ('But', 'the'): ['juniors'], ('juniors', 'they'): ['were'], ('the', 'ones'): ['that', 'we'], ('ones', 'that'): ['really'], ('that', 'really'): ['helped'], ('really', 'helped'): ['me'], ('helped', 'me'): ['to'], ('me', 'to'): ['understand'], ('to', 'understand'): ['what'], ('understand', 'what'): ['I'], ('I', 'cared'): ['about'], ('cared', 'about'): ['and'], ('about', 'and'): ['why'], ('and', 'why'): ['I'], ('I', 'did'): ['the', '.', 'a'], ('did', 'the'): ['things'], ('the', 'things'): ['I'], ('things', 'I'): ['did'], ('did', '.'): ['Juniors'], ('Juniors', 'really'): ['challenge'], ('really', 'challenge'): ['you'], ('challenge', 'you'): ['as', '.'], ('you', 'as'): ['a'], ('as', 'a'): ['developer', 'developer'], ('developer', '.'): ['Juniors'], ('Juniors', 'ask'): ['great'], ('ask', 'great'): ['questions'], ('great', 'questions'): ['Why'], ('questions', 'Why'): ['did'], ('Why', 'did'): ['you', 'you', 'we'], ('did', 'you'): ['do', 'reject'], ('you', 'do'): ['it'], ('it', 'that'): ['way', 'way', 'way', 'way', 'way'], ('that', 'way'): ['Why', 'Is', 'and', '.', 'or'], ('way', 'Why'): ['did'], ('you', 'reject'): ['this'], ('reject', 'this'): ['idea'], ('this', 'idea'): ['What'], ('idea', 'What'): ['are'], ('What', 'are'): ['you', 'the'], ('are', 'you'): ['thinking'], ('you', 'thinking'): ['about'], ('thinking', 'about'): ['when'], ('about', 'when'): ['youre'], ('when', 'youre'): ['trying'], ('youre', 'trying'): ['to'], ('trying', 'to'): ['decide'], ('to', 'decide'): ['which'], ('decide', 'which'): ['of'], ('which', 'of'): ['these'], ('of', 'these'): ['approaches'], ('these', 'approaches'): ['to'], ('approaches', 'to'): ['take'], ('to', 'take'): ['Why'], ('take', 'Why'): ['is'], ('Why', 'is'): ['it'], ('is', 'it'): ['hard'], ('it', 'hard'): ['to'], ('hard', 'to'): ['make'], ('to', 'make'): ['this'], ('make', 'this'): ['test'], ('this', 'test'): ['pass'], ('test', 'pass'): ['These'], ('pass', 'These'): ['questions'], ('These', 'questions'): ['help', 'are'], ('questions', 'help'): ['us'], ('help', 'us'): ['to'], ('us', 'to'): ['grow', 'do', 'better'], ('to', 'grow'): ['as', 'as'], ('grow', 'as'): ['mid', 'individuals'], ('as', 'mid'): ['and'], ('mid', 'and'): ['senior'], ('senior', 'level'): ['developers'], ('level', 'developers'): ['.'], ('.', 'Why'): ['did'], ('did', 'we'): ['do', 'discover'], ('way', 'Is'): ['it'], ('Is', 'it'): ['because'], ('it', 'because'): ['once'], ('because', 'once'): ['upon'], ('once', 'upon'): ['a'], ('upon', 'a'): ['time'], ('a', 'time'): ['someone'], ('time', 'someone'): ['showed'], ('someone', 'showed'): ['us'], ('showed', 'us'): ['to'], ('way', 'and'): ['weâ'], ('and', 'weâ'): ['ve'], ('weâ', 've'): ['just', 'all'], ('ve', 'just'): ['blindly', 'always'], ('just', 'blindly'): ['followed'], ('blindly', 'followed'): ['that'], ('followed', 'that'): ['approach'], ('that', 'approach'): ['Or'], ('approach', 'Or'): ['did'], ('Or', 'did'): ['we'], ('we', 'discover'): ['after'], ('discover', 'after'): ['extensive'], ('after', 'extensive'): ['Googling'], ('extensive', 'Googling'): ['and'], ('Googling', 'and'): ['searching'], ('and', 'searching'): ['on'], ('searching', 'on'): ['Stack'], ('on', 'Stack'): ['Overflow'], ('Overflow', 'after'): ['a'], ('after', 'a'): ['lot'], ('a', 'lot'): ['of', 'about', 'more'], ('lot', 'of'): ['trial'], ('of', 'trial'): ['and'], ('trial', 'and'): ['error'], ('and', 'error'): ['and'], ('error', 'and'): ['eventual'], ('and', 'eventual'): ['refinement'], ('eventual', 'refinement'): ['that'], ('refinement', 'that'): ['this'], ('that', 'this'): ['is'], ('this', 'is'): ['the'], ('the', 'best'): ['way'], ('best', 'way'): ['to'], ('way', 'to'): ['do', 'do'], ('it', 'The'): ['answer'], ('The', 'answer'): ['to'], ('answer', 'to'): ['that', 'everything'], ('to', 'that'): ['will'], ('that', 'will'): ['tell'], ('will', 'tell'): ['us'], ('tell', 'us'): ['a'], ('us', 'a'): ['lot'], ('lot', 'about'): ['how'], ('about', 'how'): ['much'], ('how', 'much'): ['we'], ('much', 'we'): ['understand'], ('we', 'understand'): ['this', 'the'], ('understand', 'this'): ['thing'], ('this', 'thing'): ['and'], ('thing', 'and'): ['whether'], ('and', 'whether'): ['we'], ('whether', 'we'): ['understand', 'need'], ('understand', 'the'): ['trade'], ('the', 'trade'): ['offs', 'offs'], ('trade', 'offs'): ['weâ', 'and', '.'], ('offs', 'weâ'): ['re'], ('weâ', 're'): ['making'], ('re', 'making'): ['when'], ('making', 'when'): ['we'], ('when', 'we'): ['take'], ('we', 'take'): ['that'], ('take', 'that'): ['route'], ('that', 'route'): ['.'], ('route', '.'): ['It'], ('.', 'It'): ['should', 'also', 'gives', 'does', 'bows'], ('It', 'should'): ['also'], ('should', 'also'): ['make'], ('also', 'make'): ['us'], ('make', 'us'): ['think'], ('us', 'think'): ['about'], ('think', 'about'): ['whether'], ('about', 'whether'): ['we'], ('we', 'need'): ['to', 'to'], ('do', 'more'): ['research'], ('more', 'research'): ['on'], ('research', 'on'): ['this', 'whether'], ('on', 'this'): ['approach', 'topic'], ('this', 'approach'): ['or', 'Is'], ('approach', 'or'): ['toolâ'], ('or', 'toolâ'): ['Has'], ('toolâ', 'Has'): ['it'], ('Has', 'it'): ['been'], ('it', 'been'): ['updated'], ('been', 'updated'): ['since'], ('updated', 'since'): ['we'], ('since', 'we'): ['learned'], ('we', 'learned'): ['this'], ('learned', 'this'): ['approach'], ('approach', 'Is'): ['there'], ('Is', 'there'): ['a'], ('there', 'a'): ['newer'], ('a', 'newer'): ['better'], ('newer', 'better'): ['faster'], ('better', 'faster'): ['cleaner'], ('faster', 'cleaner'): ['way'], ('cleaner', 'way'): ['to'], ('same', 'thing'): ['Of'], ('thing', 'Of'): ['course'], ('Of', 'course'): ['we'], ('course', 'we'): ['could'], ('we', 'could'): ['just'], ('could', 'just'): ['sit'], ('just', 'sit'): ['there'], ('sit', 'there'): ['pondering'], ('there', 'pondering'): ['these'], ('pondering', 'these'): ['questions'], ('these', 'questions'): ['in'], ('questions', 'in'): ['silence'], ('in', 'silence'): ['and'], ('silence', 'and'): ['then'], ('and', 'then'): ['carry'], ('then', 'carry'): ['on'], ('carry', 'on'): ['doing'], ('on', 'doing'): ['whatever'], ('doing', 'whatever'): ['we'], ('whatever', 'we'): ['were'], ('doing', 'or'): ['decide'], ('or', 'decide'): ['to'], ('decide', 'to'): ['do'], ('do', 'things'): ['differently'], ('things', 'differently'): ['.'], ('differently', '.'): ['But'], ('But', 'verbalizing'): ['the'], ('verbalizing', 'the'): ['inner'], ('the', 'inner'): ['conversation'], ('inner', 'conversation'): ['the'], ('conversation', 'the'): ['doubts'], ('the', 'doubts'): ['or'], ('doubts', 'or'): ['certainties'], ('or', 'certainties'): ['we'], ('certainties', 'we'): ['have'], ('we', 'have'): ['about', 'a'], ('have', 'about'): ['the'], ('about', 'the'): ['answers'], ('the', 'answers'): ['will'], ('answers', 'will'): ['not'], ('will', 'not'): ['only'], ('only', 'give'): ['the'], ('give', 'the'): ['junior'], ('the', 'junior'): ['some'], ('junior', 'some'): ['insight'], ('some', 'insight'): ['into'], ('insight', 'into'): ['our'], ('into', 'our'): ['thought'], ('our', 'thought'): ['processes'], ('thought', 'processes'): ['but'], ('processes', 'but'): ['help'], ('but', 'help'): ['them'], ('help', 'them'): ['create'], ('them', 'create'): ['their'], ('create', 'their'): ['own'], ('their', 'own'): ['process', 'answer', 'journey'], ('own', 'process'): ['for'], ('process', 'for'): ['making'], ('for', 'making'): ['decisions'], ('making', 'decisions'): ['.'], ('decisions', '.'): ['Itâ', 'Goodness'], ('.', 'Itâ'): ['s'], ('Itâ', 's'): ['perfectly', 'good'], ('s', 'perfectly'): ['acceptable'], ('perfectly', 'acceptable'): ['to'], ('acceptable', 'to'): ['say'], ('to', 'say'): ['â'], ('say', 'â'): ['Iâ'], ('â', 'Iâ'): ['m'], ('Iâ', 'm'): ['not'], ('m', 'not'): ['sure'], ('not', 'sure'): ['really'], ('sure', 'really'): ['.'], ('really', '.'): ['Iâ'], ('.', 'Iâ'): ['ve'], ('Iâ', 've'): ['just'], ('just', 'always'): ['done'], ('always', 'done'): ['it'], ('done', 'it'): ['that'], ('way', '.'): ['Should'], ('.', 'Should'): ['we'], ('Should', 'we'): ['do'], ('do', 'a'): ['bit'], ('a', 'bit'): ['of'], ('bit', 'of'): ['research'], ('of', 'research'): ['on'], ('on', 'whether'): ['thereâ'], ('whether', 'thereâ'): ['s'], ('thereâ', 's'): ['a'], ('s', 'a'): ['better'], ('a', 'better'): ['way'], ('better', 'way'): ['â'], ('way', 'â'): ['Or'], ('â', 'Or'): ['â'], ('Or', 'â'): ['Well'], ('â', 'Well'): ['back'], ('Well', 'back'): ['in'], ('back', 'in'): ['my'], ('in', 'my'): ['last'], ('my', 'last'): ['job'], ('last', 'job'): ['we'], ('job', 'we'): ['had'], ('we', 'had'): ['a'], ('had', 'a'): ['limit'], ('a', 'limit'): ['on'], ('limit', 'on'): ['the'], ('the', 'number'): ['of'], ('number', 'of'): ['open'], ('of', 'open'): ['connections'], ('open', 'connections'): ['so'], ('connections', 'so'): ['I'], ('so', 'I'): ['always'], ('I', 'always'): ['close'], ('always', 'close'): ['them'], ('close', 'them'): ['when'], ('them', 'when'): ['I'], ('I', 'can'): ['.'], ('can', '.'): ['That'], ('.', 'That'): ['doesnâ'], ('That', 'doesnâ'): ['t'], ('doesnâ', 't'): ['apply'], ('t', 'apply'): ['as'], ('apply', 'as'): ['much'], ('as', 'much'): ['here'], ('much', 'here'): ['but'], ('here', 'but'): ['it'], ('but', 'it'): ['seems'], ('it', 'seems'): ['like'], ('seems', 'like'): ['a'], ('like', 'a'): ['good'], ('a', 'good'): ['habit'], ('good', 'habit'): ['anyway'], ('habit', 'anyway'): ['.'], ('anyway', '.'): ['Can'], ('.', 'Can'): ['you'], ('Can', 'you'): ['think'], ('you', 'think'): ['of'], ('of', 'a'): ['reason'], ('a', 'reason'): ['not'], ('reason', 'not'): ['to'], ('do', 'this'): ['â'], ('this', 'â'): ['Itâ'], ('â', 'Itâ'): ['s'], ('s', 'good'): ['to'], ('good', 'to'): ['ask'], ('juniors', 'questions'): ['to'], ('get', 'them'): ['thinking'], ('them', 'thinking'): ['and'], ('thinking', 'and'): ['itâ'], ('and', 'itâ'): ['s'], ('itâ', 's'): ['great'], ('s', 'great'): ['to'], ('great', 'to'): ['have'], ('to', 'have'): ['a'], ('have', 'a'): ['two', 'lot'], ('a', 'two'): ['way'], ('two', 'way'): ['conversation'], ('way', 'conversation'): ['about'], ('conversation', 'about'): ['trade'], ('about', 'trade'): ['offs'], ('offs', 'and'): ['implementation'], ('and', 'implementation'): ['decisions'], ('implementation', 'decisions'): ['.'], ('.', 'Goodness'): ['knows'], ('Goodness', 'knows'): ['weâ'], ('knows', 'weâ'): ['ve'], ('ve', 'all'): ['been'], ('all', 'been'): ['stuck'], ('been', 'stuck'): ['thinking'], ('stuck', 'thinking'): ['in'], ('thinking', 'in'): ['circles'], ('in', 'circles'): ['about'], ('circles', 'about'): ['a'], ('about', 'a'): ['problem'], ('a', 'problem'): ['only'], ('problem', 'only'): ['to'], ('only', 'to'): ['solve'], ('to', 'solve'): ['it'], ('solve', 'it'): ['just'], ('it', 'just'): ['by'], ('just', 'by'): ['asking'], ('by', 'asking'): ['a'], ('asking', 'a'): ['question'], ('a', 'question'): ['.'], ('question', '.'): ['We'], ('We', 'often'): ['donâ'], ('often', 'donâ'): ['t'], ('donâ', 't'): ['even'], ('t', 'even'): ['need'], ('even', 'need'): ['the'], ('need', 'the'): ['answer', 'tension'], ('answer', 'Seniors'): ['know'], ('Seniors', 'know'): ['the'], ('know', 'the'): ['answer'], ('to', 'everything'): ['is'], ('everything', 'is'): ['â'], ('is', 'â'): ['it'], ('â', 'it'): ['depends', 'dependsâ', 'dependsâ'], ('depends', '.'): ['â'], ('.', 'â'): ['Growing'], ('â', 'Growing'): ['as'], ('developer', 'means'): ['discovering'], ('means', 'discovering'): ['more'], ('discovering', 'more'): ['and'], ('more', 'and'): ['more'], ('and', 'more'): ['things'], ('more', 'things'): ['â'], ('things', 'â'): ['it'], ('it', 'dependsâ'): ['on', 'on'], ('dependsâ', 'on'): ['being', 'and'], ('on', 'being'): ['able'], ('being', 'able'): ['to'], ('able', 'to'): ['spot'], ('to', 'spot'): ['those'], ('spot', 'those'): ['things'], ('those', 'things'): ['in'], ('things', 'in'): ['the'], ('code', 'the'): ['infrastructure'], ('the', 'infrastructure'): ['or'], ('infrastructure', 'or'): ['the'], ('or', 'the'): ['organization'], ('organization', 'and'): ['asking'], ('and', 'asking'): ['questions'], ('asking', 'questions'): ['to'], ('to', 'uncover'): ['known'], ('uncover', 'known'): ['unknowns'], ('known', 'unknowns'): ['.'], ('unknowns', '.'): ['Answering'], ('.', 'Answering'): ['a'], ('Answering', 'a'): ['juniorâ'], ('a', 'juniorâ'): ['s'], ('juniorâ', 's'): ['questions'], ('s', 'questions'): ['or'], ('questions', 'or'): ['guiding'], ('or', 'guiding'): ['them'], ('guiding', 'them'): ['to'], ('own', 'answer'): ['helps'], ('answer', 'helps'): ['them'], ('helps', 'them'): ['on'], ('them', 'on'): ['their'], ('on', 'their'): ['own'], ('own', 'journey'): ['to'], ('journey', 'to'): ['finding'], ('to', 'finding'): ['out'], ('finding', 'out'): ['what'], ('out', 'what'): ['â'], ('what', 'â'): ['it'], ('on', 'and'): ['where'], ('and', 'where'): ['to'], ('where', 'to'): ['strike'], ('to', 'strike'): ['the'], ('strike', 'the'): ['balance'], ('the', 'balance'): ['in'], ('balance', 'in'): ['the'], ('offs', '.'): ['It'], ('It', 'also'): ['helps'], ('also', 'helps'): ['us'], ('helps', 'us'): ['to', 'all'], ('to', 'better'): ['understand'], ('better', 'understand'): ['our'], ('understand', 'our'): ['own'], ('our', 'own'): ['processes'], ('own', 'processes'): ['and'], ('processes', 'and'): ['update'], ('and', 'update'): ['them'], ('update', 'them'): ['where'], ('them', 'where'): ['necessary'], ('where', 'necessary'): ['.'], ('necessary', '.'): ['An'], ('An', 'AI'): ['doesnt'], ('AI', 'doesnt'): ['ask'], ('doesnt', 'ask'): ['questions'], ('ask', 'questions'): ['.', 'learning'], ('questions', '.'): ['It'], ('It', 'gives'): ['answers'], ('gives', 'answers'): ['.'], ('answers', '.'): ['With'], ('.', 'With'): ['confidence'], ('With', 'confidence'): ['.'], ('confidence', '.'): ['It'], ('It', 'does'): ['not'], ('does', 'not'): ['challenge'], ('not', 'challenge'): ['you'], ('you', '.'): ['It'], ('It', 'bows'): ['to'], ('bows', 'to'): ['your'], ('to', 'your'): ['wisdom'], ('your', 'wisdom'): ['when'], ('wisdom', 'when'): ['you'], ('when', 'you'): ['express'], ('you', 'express'): ['an'], ('express', 'an'): ['opinion'], ('an', 'opinion'): ['and'], ('opinion', 'and'): ['yet'], ('and', 'yet'): ['also'], ('yet', 'also'): ['does'], ('also', 'does'): ['what'], ('does', 'what'): ['the'], ('what', 'the'): ['hell'], ('the', 'hell'): ['it'], ('hell', 'it'): ['wants'], ('it', 'wants'): ['to'], ('wants', 'to'): ['.'], ('to', '.'): ['We'], ('We', 'need'): ['the'], ('the', 'tension'): ['between'], ('tension', 'between'): ['seniors'], ('between', 'seniors'): ['and'], ('seniors', 'and'): ['juniors'], ('and', 'juniors'): ['.'], ('.', 'Thats'): ['what'], ('Thats', 'what'): ['helps'], ('what', 'helps'): ['us'], ('us', 'all'): ['grow'], ('all', 'grow'): ['.'], ('grow', '.'): ['As'], ('As', 'juniors'): ['we'], ('can', 'ask'): ['questions'], ('questions', 'learning'): ['for'], ('learning', 'for'): ['ourselves'], ('for', 'ourselves'): ['and'], ('ourselves', 'and'): ['helping'], ('and', 'helping'): ['the'], ('the', 'seniors'): ['challenge'], ('seniors', 'challenge'): ['their'], ('challenge', 'their'): ['assumptions'], ('their', 'assumptions'): ['.'], ('assumptions', '.'): ['As'], ('As', 'seniors'): ['we'], ('seniors', 'we'): ['have'], ('lot', 'more'): ['experience'], ('more', 'experience'): ['with'], ('experience', 'with'): ['the'], ('with', 'the'): ['subtleties'], ('the', 'subtleties'): ['of'], ('subtleties', 'of'): ['why'], ('of', 'why'): ['we'], ('why', 'we'): ['would'], ('we', 'would'): ['choose'], ('would', 'choose'): ['a'], ('choose', 'a'): ['specific'], ('a', 'specific'): ['solution'], ('specific', 'solution'): ['and'], ('solution', 'and'): ['what'], ('and', 'what'): ['preferences'], ('what', 'preferences'): ['we'], ('preferences', 'we'): ['or'], ('we', 'or'): ['our'], ('or', 'our'): ['team'], ('our', 'team'): ['might'], ('team', 'might'): ['have'], ('might', 'have'): ['on', 'written'], ('have', 'on'): ['our'], ('on', 'our'): ['solution'], ('our', 'solution'): ['.'], ('solution', '.'): ['But'], ('But', 'while'): ['we'], ('while', 'we'): ['can'], ('can', 'mould'): ['an'], ('mould', 'an'): ['AI'], ('an', 'AI'): ['to'], ('give', 'us'): ['the'], ('us', 'the'): ['sort'], ('the', 'sort'): ['of'], ('sort', 'of'): ['answer'], ('of', 'answer'): ['we'], ('answer', 'we'): ['ourselves'], ('we', 'ourselves'): ['might'], ('ourselves', 'might'): ['have'], ('have', 'written'): ['the'], ('written', 'the'): ['AI'], ('not', 'going'): ['to'], ('going', 'to'): ['ask'], ('ask', 'us'): ['But'], ('us', 'But'): ['why'], ('But', 'why'): ['do'], ('why', 'do'): ['you'], ('do', 'you'): ['want'], ('you', 'want'): ['to'], ('way', 'or'): ['What'], ('or', 'What'): ['are'], ('the', 'issues'): ['youre'], ('issues', 'youre'): ['worried'], ('youre', 'worried'): ['about'], ('about', 'with'): ['this'], ('with', 'this'): ['solution'], ('this', 'solution'): ['These'], ('solution', 'These'): ['questions'], ('questions', 'are'): ['the'], ('ones', 'we'): ['need'], ('as', 'individuals'): ['to'], ('individuals', 'to'): ['create'], ('to', 'create'): ['better'], ('create', 'better'): ['code'], ('code', 'that'): ['doesnt'], ('that', 'doesnt'): ['only'], ('doesnt', 'only'): ['work'], ('only', 'work'): ['but'], ('work', 'but'): ['meets'], ('but', 'meets'): ['the'], ('meets', 'the'): ['requirements'], ('the', 'requirements'): ['of'], ('requirements', 'of'): ['the'], ('business', 'the'): ['user'], ('the', 'user'): ['and'], ('user', 'and'): ['the'], ('and', 'the'): ['team'], ('team', 'maintaining'): ['the'], ('maintaining', 'the'): ['code'], ('.', 'Creating'): ['good'], ('Creating', 'good'): ['software'], ('good', 'software'): ['is'], ('software', 'is'): ['a'], ('team', 'sport'): ['.'], ('sport', '.'): ['I'], ('did', 'a'): ['video'], ('a', 'video'): ['on'], ('video', 'on'): ['this'], ('this', 'topic'): ['too'], ('topic', 'too'): ['https'], ('too', 'https'): ['youtu'], ('https', 'youtu'): ['.'], ('youtu', '.'): ['be'], ('.', 'be'): ['AK9pFlLJwbQ'], ('be', 'AK9pFlLJwbQ'): ['feature'], ('AK9pFlLJwbQ', 'feature'): ['shared'], ('feature', 'shared'): ['.'], ('shared', '.'): ['Tracking'], ('.', 'Tracking'): ['need'], ('Tracking', 'need'): ['to'], ('to', 'know'): ['trends'], ('know', 'trends'): ['at'], ('trends', 'at'): ['the'], ('at', 'the'): ['intersection'], ('the', 'intersection'): ['of'], ('intersection', 'of'): ['business'], ('of', 'business'): ['and'], ('business', 'and'): ['technology'], ('and', 'technology'): ['.'], ('technology', '.'): ['Please'], ('.', 'Please'): ['read'], ('Please', 'read'): ['our'], ('read', 'our'): ['privacy'], ('our', 'privacy'): ['policy'], ('privacy', 'policy'): ['.']})\n"
     ]
    }
   ],
   "source": [
    "trigrams = zip(document, document[1:], document[2:])\n",
    "\n",
    "trigram_transitions = defaultdict(list)\n",
    "starts = []\n",
    "\n",
    "for prev, current, next in trigrams:\n",
    "    if prev == \".\":\n",
    "        starts.append(current)\n",
    "\n",
    "    trigram_transitions[(prev,current)].append(next)\n",
    "\n",
    "print(trigram_transitions)"
   ]
  },
  {
   "cell_type": "code",
   "execution_count": 153,
   "metadata": {},
   "outputs": [
    {
     "data": {
      "text/plain": [
       "'Weve been doing this for decades .'"
      ]
     },
     "execution_count": 153,
     "metadata": {},
     "output_type": "execute_result"
    }
   ],
   "source": [
    "def generate_using_trigrams():\n",
    "    current = random.choice(starts)\n",
    "    prev = \".\"\n",
    "    result = [current]\n",
    "    while True:\n",
    "        next_word_candidates = trigram_transitions[(prev,current)]\n",
    "        next_word = random.choice(next_word_candidates)\n",
    "        prev,current = current,next_word\n",
    "        result.append(current)\n",
    "        if current == '.': return \" \".join(result)\n",
    "\n",
    "\n",
    "generate_using_trigrams()"
   ]
  },
  {
   "cell_type": "code",
   "execution_count": 154,
   "metadata": {},
   "outputs": [],
   "source": [
    "grammar = {\n",
    "\"_S\" : [\"_NP _VP\"],\n",
    "\"_NP\" : [\"_N\",\n",
    "\"_A _NP _P _A _N\"],\n",
    "\"_VP\" : [\"_V\",\n",
    "\"_V _NP\"],\n",
    "\"_N\" : [\"data science\", \"Python\", \"regression\"],\n",
    "\"_A\" : [\"big\", \"linear\", \"logistic\"],\n",
    "\"_P\" : [\"about\", \"near\"],\n",
    "\"_V\" : [\"learns\", \"trains\", \"tests\", \"is\"]\n",
    "}"
   ]
  },
  {
   "cell_type": "code",
   "execution_count": 155,
   "metadata": {},
   "outputs": [
    {
     "data": {
      "text/plain": [
       "['big',\n",
       " 'logistic',\n",
       " 'linear',\n",
       " 'Python',\n",
       " 'about',\n",
       " 'logistic',\n",
       " 'regression',\n",
       " 'near',\n",
       " 'logistic',\n",
       " 'data science',\n",
       " 'about',\n",
       " 'logistic',\n",
       " 'Python',\n",
       " 'is',\n",
       " 'big',\n",
       " 'regression',\n",
       " 'about',\n",
       " 'linear',\n",
       " 'data science']"
      ]
     },
     "execution_count": 155,
     "metadata": {},
     "output_type": "execute_result"
    }
   ],
   "source": [
    "def is_terminal(token):\n",
    "    return token[0] != \"_\"\n",
    "\n",
    "def expand(grammar, tokens):\n",
    "    for i, token in enumerate(tokens):\n",
    "        if is_terminal(token): continue\n",
    "\n",
    "        replacement = random.choice(grammar[token])\n",
    "\n",
    "        if is_terminal(replacement):\n",
    "            tokens[i] = replacement\n",
    "        else: \n",
    "            tokens = tokens[:i] + replacement.split() + tokens[(i+1):]\n",
    "            return expand(grammar,tokens)\n",
    "        \n",
    "    return tokens\n",
    "\n",
    "def generate_sentence(grammar):\n",
    "    return expand(grammar, [\"_S\"])\n",
    "\n",
    "generate_sentence(grammar)"
   ]
  },
  {
   "cell_type": "markdown",
   "metadata": {},
   "source": [
    "### Modelagem de Tópicos"
   ]
  },
  {
   "cell_type": "code",
   "execution_count": 156,
   "metadata": {},
   "outputs": [],
   "source": [
    "def sample_from(weights):\n",
    "    total = sum(weights)\n",
    "    rnd = random.random()*total\n",
    "\n",
    "    for i, w in enumerate(weights):\n",
    "        rnd -= w\n",
    "        if rnd <= 0: return i\n",
    "\n",
    "\n",
    "for i in range(100):\n",
    "    print(sample_from[1,1,3])"
   ]
  },
  {
   "cell_type": "code",
   "execution_count": 157,
   "metadata": {},
   "outputs": [],
   "source": [
    "documents = [\n",
    "[\"Hadoop\", \"Big Data\", \"HBase\", \"Java\", \"Spark\", \"Storm\", \"Cassandra\"],\n",
    "[\"NoSQL\", \"MongoDB\", \"Cassandra\", \"HBase\", \"Postgres\"],\n",
    "[\"Python\", \"scikit-learn\", \"scipy\", \"numpy\", \"statsmodels\", \"pandas\"],\n",
    "[\"R\", \"Python\", \"statistics\", \"regression\", \"probability\"],\n",
    "[\"machine learning\", \"regression\", \"decision trees\", \"libsvm\"],\n",
    "[\"Python\", \"R\", \"Java\", \"C++\", \"Haskell\", \"programming languages\"],\n",
    "[\"statistics\", \"probability\", \"mathematics\", \"theory\"],\n",
    "[\"machine learning\", \"scikit-learn\", \"Mahout\", \"neural networks\"],\n",
    "[\"neural networks\", \"deep learning\", \"Big Data\", \"artificial intelligence\"],\n",
    "[\"Hadoop\", \"Java\", \"MapReduce\", \"Big Data\"],\n",
    "[\"statistics\", \"R\", \"statsmodels\"],\n",
    "[\"C++\", \"deep learning\", \"artificial intelligence\", \"probability\"],\n",
    "[\"pandas\", \"R\", \"Python\"],\n",
    "[\"databases\", \"HBase\", \"Postgres\", \"MySQL\", \"MongoDB\"],\n",
    "[\"libsvm\", \"regression\", \"support vector machines\"]\n",
    "]"
   ]
  },
  {
   "cell_type": "code",
   "execution_count": 158,
   "metadata": {},
   "outputs": [],
   "source": [
    "K = 4\n",
    "document_topic_counts = [Counter() for _ in documents]\n",
    "topic_words_counts = [Counter() for _ in range(K)]\n",
    "topic_counts = [0 for _ in range(K)]\n",
    "document_lengths = map(len, documents)\n",
    "distinct_words = set(word for document in documents for word in document)\n",
    "W = len(distinct_words)\n",
    "D = len(documents)"
   ]
  },
  {
   "cell_type": "code",
   "execution_count": 162,
   "metadata": {},
   "outputs": [],
   "source": [
    "def p_topic_given_document(topic, d, alpha=0.1):\n",
    "    return ((document_topic_counts[d][topic] + alpha)/(document_lengths[d] + K*alpha))\n",
    "\n",
    "def p_word_given_topic(word, topic,beta=0.1):\n",
    "    return ((topic_words_counts[topic][word] + beta)/(topic_counts[topic] + W*beta))\n",
    "\n",
    "def topic_weight(d, word, k):\n",
    "    return p_word_given_topic(word,k)*p_topic_given_document(k,d)\n",
    "\n",
    "def choose_new_topic(d, word):\n",
    "    return sample_from([topic_weight(d, word,k) for k in range(K)])"
   ]
  },
  {
   "cell_type": "code",
   "execution_count": null,
   "metadata": {},
   "outputs": [],
   "source": [
    "random.seed(0)\n",
    "\n",
    "document_topics = [[random.randrange(K) for word in document] for document in documents]\n",
    "\n",
    "for d in range(D):\n",
    "    for word, topic in zip(documents[d], document_topics[d]):\n",
    "        document_topic_counts[d][topic] += 1\n",
    "        topic_words_counts[topic][word] += 1\n",
    "        topic_counts[topic] += 1"
   ]
  }
 ],
 "metadata": {
  "kernelspec": {
   "display_name": "venv",
   "language": "python",
   "name": "python3"
  },
  "language_info": {
   "codemirror_mode": {
    "name": "ipython",
    "version": 3
   },
   "file_extension": ".py",
   "mimetype": "text/x-python",
   "name": "python",
   "nbconvert_exporter": "python",
   "pygments_lexer": "ipython3",
   "version": "3.8.10"
  }
 },
 "nbformat": 4,
 "nbformat_minor": 2
}
