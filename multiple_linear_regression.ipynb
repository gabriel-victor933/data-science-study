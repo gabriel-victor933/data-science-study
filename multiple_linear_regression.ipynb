{
 "cells": [
  {
   "cell_type": "markdown",
   "metadata": {},
   "source": [
    "## Regressão Linear Multipla"
   ]
  },
  {
   "cell_type": "code",
   "execution_count": 77,
   "metadata": {},
   "outputs": [],
   "source": [
    "from statistic import correlation,standart_deviantion, mean, de_mean, median\n",
    "from vectors import dot, vector_subtract, scalar_multiply\n",
    "from gradiente import minimize_stochastic\n",
    "import numpy as np\n",
    "import matplotlib.pyplot as plt\n",
    "import random"
   ]
  },
  {
   "cell_type": "code",
   "execution_count": 78,
   "metadata": {},
   "outputs": [],
   "source": [
    "np.random.seed(42)\n",
    "\n",
    "num_friends_good = np.random.randint(10,100,50)\n",
    "work_hours = np.random.randint(30,80,50)\n",
    "has_phd = np.random.randint(0,2,50)\n",
    "ruido = np.random.randint(-15,15,50) \n",
    "daily_minutes_good = 0.8 * num_friends_good + 10 + ruido - 0.45*work_hours + 0.12*has_phd"
   ]
  },
  {
   "cell_type": "code",
   "execution_count": 79,
   "metadata": {},
   "outputs": [
    {
     "data": {
      "text/plain": [
       "[0.5488135039273248,\n",
       " 0.7151893663724195,\n",
       " 0.6027633760716439,\n",
       " 0.5448831829968969]"
      ]
     },
     "execution_count": 79,
     "metadata": {},
     "output_type": "execute_result"
    }
   ],
   "source": [
    "def predict(x_i, beta):\n",
    "    return dot(x_i,beta)\n",
    "\n",
    "def error(x_i,y_i,beta):\n",
    "    return y_i - predict(x_i,beta)\n",
    "\n",
    "def squared_error(x_i, y_i, beta):\n",
    "    return error(x_i,y_i,beta)**2\n",
    "\n",
    "def squared_error_gradient(x_i, y_i, beta):\n",
    "    return [-2*x_ij*error(x_i, y_i, beta) for x_ij in x_i]\n",
    "\n",
    "def estimate_beta(x,y):\n",
    "    beta_initial = [np.random.random() for x_i in x[0]]\n",
    "    return minimize_stochastic(squared_error, squared_error_gradient, x,y, beta_initial, 0.001)\n",
    "\n",
    "np.random.seed(0)\n",
    "x = list(zip(np.zeros(len(num_friends_good)),num_friends_good,work_hours,has_phd))\n",
    "\n",
    "beta = estimate_beta(x,daily_minutes_good)\n",
    "beta\n"
   ]
  },
  {
   "cell_type": "code",
   "execution_count": 80,
   "metadata": {},
   "outputs": [
    {
     "data": {
      "text/plain": [
       "-2.241364497925962"
      ]
     },
     "execution_count": 80,
     "metadata": {},
     "output_type": "execute_result"
    }
   ],
   "source": [
    "def total_sum_of_squares(y):\n",
    "    return sum(v**2 for v in de_mean(y))\n",
    "\n",
    "def multiple_r_squared(x,y,beta):\n",
    "    sum_of_squared_errors = sum(error(x_i,y_i,beta)**2 for x_i,y_i in zip(x,y))\n",
    "\n",
    "    return 1 - (sum_of_squared_errors/total_sum_of_squares(y))\n",
    "\n",
    "\n",
    "multiple_r_squared(x,daily_minutes_good,beta)"
   ]
  },
  {
   "cell_type": "code",
   "execution_count": 81,
   "metadata": {},
   "outputs": [],
   "source": [
    "def bootstrap_sample(data):\n",
    "    return [random.choice(data) for _ in data]\n",
    "\n",
    "def bootstrap_statistic(data, stats_fn, num_samples):\n",
    "    return [stats_fn(bootstrap_sample(data)) for _ in range(num_samples)]"
   ]
  },
  {
   "cell_type": "code",
   "execution_count": 82,
   "metadata": {},
   "outputs": [],
   "source": [
    "# 101 pontos todos muito próximos de 100\n",
    "close_to_100 = [99.5 + np.random.random() for _ in range(101)]\n",
    "# 101 pontos, 50 próximos de 0, 50 próximos de 200\n",
    "far_from_100 = ([99.5 + np.random.random()] +\n",
    "[np.random.random() for _ in range(50)] +\n",
    "[200 + np.random.random() for _ in range(50)])"
   ]
  },
  {
   "cell_type": "code",
   "execution_count": 83,
   "metadata": {},
   "outputs": [],
   "source": [
    "def estimate_sample_beta(sample):\n",
    "    x_sample, y_sample = zip(*sample)\n",
    "    return estimate_beta(x_sample, y_sample)"
   ]
  },
  {
   "cell_type": "code",
   "execution_count": 88,
   "metadata": {},
   "outputs": [
    {
     "data": {
      "text/plain": [
       "[0.30473634411065953,\n",
       " 0.30394060197394385,\n",
       " 0.2784904061206433,\n",
       " 0.3011111265807051]"
      ]
     },
     "execution_count": 88,
     "metadata": {},
     "output_type": "execute_result"
    }
   ],
   "source": [
    "bootstrap_beta = bootstrap_statistic(list(zip(x,daily_minutes_good)),estimate_sample_beta,100)\n",
    "\n",
    "bootstrap_standard_error = [standart_deviantion([beta[i] for beta in bootstrap_beta]) for i in range(4)]\n",
    "\n",
    "bootstrap_standard_error"
   ]
  }
 ],
 "metadata": {
  "kernelspec": {
   "display_name": "venv",
   "language": "python",
   "name": "python3"
  },
  "language_info": {
   "codemirror_mode": {
    "name": "ipython",
    "version": 3
   },
   "file_extension": ".py",
   "mimetype": "text/x-python",
   "name": "python",
   "nbconvert_exporter": "python",
   "pygments_lexer": "ipython3",
   "version": "3.8.10"
  }
 },
 "nbformat": 4,
 "nbformat_minor": 2
}
