{
 "cells": [
  {
   "cell_type": "code",
   "execution_count": 194,
   "metadata": {},
   "outputs": [],
   "source": [
    "import numpy as np\n",
    "import matplotlib.pyplot as plt\n",
    "import cv2 as cv\n",
    "import glob\n",
    "import random\n",
    "from collections import Counter"
   ]
  },
  {
   "cell_type": "code",
   "execution_count": null,
   "metadata": {},
   "outputs": [],
   "source": [
    "def random_partition(arr,prob):\n",
    "    \"Particiona um array em duas partes aleatoriamente dado um probabilidade\"\n",
    "    result = [[],[]]\n",
    "    for data in arr:\n",
    "        result[0 if random.random() < prob else 1].append(data)\n",
    "    return result\n",
    "\n",
    "\n",
    "def manhattanDistance(X,Y):\n",
    "    return np.sum(np.abs(X - Y),axis=1)\n",
    "\n",
    "def euclideanDistance(X,Y):\n",
    "    return np.sqrt(np.sum(np.square(X - Y), axis = 1))"
   ]
  },
  {
   "cell_type": "code",
   "execution_count": 202,
   "metadata": {},
   "outputs": [],
   "source": [
    "class NearestNeighbor:\n",
    "    def __init__(self):\n",
    "        pass\n",
    "\n",
    "    def train(self,X,y):\n",
    "        \"\"\" X is N x D where each row is an example. Y is 1-dimension of size N \"\"\"\n",
    "        # the nearest neighbor classifier simply remembers all the training data\n",
    "        self.Xtr = X\n",
    "        self.ytr = y\n",
    "\n",
    "    def predict(self,X, fnDistance = manhattanDistance, k=1):\n",
    "        \"\"\" X is N x D where each row is an example we wish to predict label for \"\"\"\n",
    "        num_test = len(X)\n",
    "\n",
    "        Ypred = np.zeros(num_test,dtype=self.ytr.dtype)\n",
    "\n",
    "        for i in range(num_test):\n",
    "            \n",
    "            distances = np.sum(np.abs(self.Xtr - X[i,:]), axis=(2,1))\n",
    "            \n",
    "            \"\"\" min_index = np.argmin(distances)\n",
    "\n",
    "            Ypred[i] = self.ytr[min_index]  \"\"\"\n",
    "\n",
    "            distance_sorted = sorted(zip(distances,self.ytr), key=lambda item: item[0])\n",
    "            _,labels = zip(*distance_sorted)\n",
    "\n",
    "            Ypred[i] = self.count_tuple(labels[:k])\n",
    "            \n",
    "        return Ypred\n",
    "\n",
    "    def count_tuple(self,labels):\n",
    "        ocorrence = Counter(labels)\n",
    "        winner,winner_count = ocorrence.most_common(1)[0]\n",
    "        num_winners = len([count for count in ocorrence.values() if count == winner_count])\n",
    "\n",
    "        if num_winners == 1:\n",
    "            return winner\n",
    "        else: \n",
    "            return self.count_tuple(labels[:-1])\n",
    "\n"
   ]
  },
  {
   "cell_type": "code",
   "execution_count": 115,
   "metadata": {},
   "outputs": [],
   "source": [
    "img = cv.imread(\"shapes/circle/0.png\",cv.IMREAD_GRAYSCALE)\n",
    "\n",
    "data = [] #[(img_data,label)]\n",
    "max_shape_count = 100\n",
    "for shape in glob.glob('shapes/*'):\n",
    "    count = 0\n",
    "    for fn in glob.glob(f'{shape}/*'):\n",
    "        img = cv.imread(fn,cv.IMREAD_GRAYSCALE)\n",
    "        img_shape = shape.split('/')[1]\n",
    "        data.append([img,img_shape])\n",
    "        count += 1\n",
    "        if count >= max_shape_count:\n",
    "            break\n",
    "\n",
    "\n",
    "train_data, test_data = random_partition(data,0.7)\n",
    "\n",
    "train_data_X, train_data_y = zip(*train_data)\n",
    "test_data_X, test_data_y = zip(*test_data)\n",
    "\n",
    "train_data_X = np.array(train_data_X)\n",
    "train_data_y = np.array(train_data_y)\n",
    "test_data_X = np.array(test_data_X)\n",
    "test_data_y = np.array(test_data_y)\n"
   ]
  },
  {
   "cell_type": "code",
   "execution_count": 206,
   "metadata": {},
   "outputs": [
    {
     "name": "stdout",
     "output_type": "stream",
     "text": [
      "k=1 - P=0.5045871559633027\n",
      "k=3 - P=0.45871559633027525\n",
      "k=5 - P=0.4036697247706422\n",
      "k=7 - P=0.4036697247706422\n",
      "k=9 - P=0.3761467889908257\n",
      "k=11 - P=0.3577981651376147\n",
      "k=13 - P=0.3577981651376147\n",
      "k=15 - P=0.3486238532110092\n",
      "k=17 - P=0.3394495412844037\n",
      "k=19 - P=0.3119266055045872\n"
     ]
    }
   ],
   "source": [
    "knn = NearestNeighbor()\n",
    "\n",
    "knn.train(train_data_X, train_data_y)\n",
    "\n",
    "for k in [1,3,5,7,9,11,13,15,17,19]:\n",
    "\n",
    "    Y_pred_man = knn.predict(test_data_X,fnDistance=manhattanDistance,k=k)\n",
    "\n",
    "    count = 0\n",
    "    for i,_ in enumerate(test_data_y):\n",
    "        if Y_pred_man[i] == test_data_y[i]:\n",
    "            count += 1\n",
    "\n",
    "    print(f'k={k} - P={count/len(test_data_y)}')\n"
   ]
  },
  {
   "cell_type": "code",
   "execution_count": 207,
   "metadata": {},
   "outputs": [
    {
     "name": "stdout",
     "output_type": "stream",
     "text": [
      "k=1 - P=0.5045871559633027\n",
      "k=3 - P=0.45871559633027525\n",
      "k=5 - P=0.4036697247706422\n",
      "k=7 - P=0.4036697247706422\n",
      "k=9 - P=0.3761467889908257\n",
      "k=11 - P=0.3577981651376147\n",
      "k=13 - P=0.3577981651376147\n",
      "k=15 - P=0.3486238532110092\n",
      "k=17 - P=0.3394495412844037\n",
      "k=19 - P=0.3119266055045872\n"
     ]
    }
   ],
   "source": [
    "for k in [1,3,5,7,9,11,13,15,17,19]:\n",
    "\n",
    "    Y_pred_man = knn.predict(test_data_X,fnDistance=euclideanDistance,k=k)\n",
    "\n",
    "    count = 0\n",
    "    for i,_ in enumerate(test_data_y):\n",
    "        if Y_pred_man[i] == test_data_y[i]:\n",
    "            count += 1\n",
    "\n",
    "    print(f'k={k} - P={count/len(test_data_y)}')"
   ]
  }
 ],
 "metadata": {
  "kernelspec": {
   "display_name": "venv",
   "language": "python",
   "name": "python3"
  },
  "language_info": {
   "codemirror_mode": {
    "name": "ipython",
    "version": 3
   },
   "file_extension": ".py",
   "mimetype": "text/x-python",
   "name": "python",
   "nbconvert_exporter": "python",
   "pygments_lexer": "ipython3",
   "version": "3.8.10"
  }
 },
 "nbformat": 4,
 "nbformat_minor": 2
}
