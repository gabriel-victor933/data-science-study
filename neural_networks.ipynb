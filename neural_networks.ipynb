{
 "cells": [
  {
   "cell_type": "code",
   "execution_count": 27,
   "metadata": {},
   "outputs": [],
   "source": [
    "import numpy as np\n",
    "import matplotlib.pyplot as plt\n",
    "import math\n",
    "from collections import Counter, defaultdict\n",
    "from functools import partial\n",
    "from vectors import dot\n",
    "import random"
   ]
  },
  {
   "cell_type": "code",
   "execution_count": 28,
   "metadata": {},
   "outputs": [],
   "source": [
    "def step_function(x):\n",
    "    return 1 if x >= 0 else 0\n",
    "\n",
    "def perceptron_output(weights, bias, x):\n",
    "    calculation = dot(weights,x) + bias\n",
    "    return step_function(calculation)\n",
    "\n",
    "\n",
    "def sigmoid(t):\n",
    "    return 1/(1 + math.exp(-t))\n",
    "\n",
    "def neuron_output(weights, inputs):\n",
    "    return sigmoid(dot(weights, inputs))\n",
    "\n",
    "\n",
    "def feed_forward(neural_network, input_vector):\n",
    "\n",
    "    outputs = []\n",
    "\n",
    "    for layer in neural_network:\n",
    "        input_with_bias = input_vector + [1]\n",
    "        output = [neuron_output(neuron, input_with_bias) for neuron in layer]\n",
    "        outputs.append(output)\n",
    "\n",
    "        input_vector = output \n",
    "\n",
    "    return outputs\n"
   ]
  },
  {
   "cell_type": "code",
   "execution_count": 29,
   "metadata": {},
   "outputs": [
    {
     "name": "stdout",
     "output_type": "stream",
     "text": [
      "0 0 [9.38314668300676e-14]\n",
      "0 1 [0.9999999999999059]\n",
      "1 0 [0.9999999999999059]\n",
      "1 1 [9.383146683006828e-14]\n"
     ]
    }
   ],
   "source": [
    "xor_network = [[[20,20,-30],[20,20,-10]],[[-60,60,-30]]]\n",
    "\n",
    "for x in [0,1]:\n",
    "    for y in [0,1]:\n",
    "        print(x,y,feed_forward(xor_network,[x,y])[-1])"
   ]
  },
  {
   "cell_type": "code",
   "execution_count": 30,
   "metadata": {},
   "outputs": [],
   "source": [
    "def backpropagation(network, input_vectors, targets):\n",
    "    hidden_outputs, outputs = feed_forward(network, input_vectors)\n",
    "\n",
    "    output_deltas = [output*(1 - output)*(output - target) for output,target in zip(outputs,targets)]\n",
    "\n",
    "    for i, output_neuron in enumerate(network[-1]):\n",
    "        for j, hidden_output in enumerate(hidden_outputs + [1]):\n",
    "            output_neuron[j] -= output_deltas[i]*hidden_output\n",
    "\n",
    "    hidden_deltas = [hidden_output*(1-hidden_output)*dot(output_deltas,[n[i] for n in network[-1]])\n",
    "                     for i, hidden_output in enumerate(hidden_outputs)]\n",
    "    \n",
    "    for i, hidden_neuron in enumerate(network[0]):\n",
    "        for j, input in enumerate(input_vectors + [1]):\n",
    "             hidden_neuron[j] -= hidden_deltas[i]*input"
   ]
  },
  {
   "cell_type": "code",
   "execution_count": 31,
   "metadata": {},
   "outputs": [],
   "source": [
    "targets = [[1 if i == j else 0 for i in range(10)] for j in range(10)]\n",
    "\n",
    "random.seed(10)\n",
    "input_size = 25\n",
    "num_hidden = 5\n",
    "output_size = 10\n",
    "hidden_layer = [[random.random() for _ in range(input_size + 1)] for _ in range(num_hidden)]\n",
    "output_layer = [[random.random() for _ in range(num_hidden + 1)] for _ in range(output_size)]\n",
    "network = [hidden_layer, output_layer]"
   ]
  },
  {
   "cell_type": "code",
   "execution_count": 32,
   "metadata": {},
   "outputs": [],
   "source": [
    "inputs = [\n",
    "    [1, 1, 1, 1, 1,\n",
    "    1, 0, 0, 0, 1,\n",
    "    1, 0, 0, 0, 1,\n",
    "    1, 0, 0, 0, 1,\n",
    "    1, 1, 1, 1, 1,],\n",
    "\n",
    "    [0, 0, 1, 0, 0,\n",
    "    0, 0, 1, 0, 0,\n",
    "    0, 0, 1, 0, 0,\n",
    "    0, 0, 1, 0, 0,\n",
    "    0, 0, 1, 0,0,],\n",
    "\n",
    "    [1, 1, 1, 1, 1,\n",
    "    0, 0, 0, 0, 1,\n",
    "    1, 1, 1, 1, 1,\n",
    "    1, 0, 0, 0, 0,\n",
    "    1, 1, 1, 1, 1,],\n",
    "\n",
    "    [ 1, 1, 1, 1, 1,\n",
    "    0, 0, 0, 0, 1,\n",
    "    1, 1, 1, 1, 1,\n",
    "    0, 0, 0, 0, 1,\n",
    "    1, 1, 1, 1, 1,],\n",
    "\n",
    "    [1, 0, 0, 0, 1,\n",
    "    1, 0, 0, 0, 1,\n",
    "    1, 1, 1, 1, 1,\n",
    "    0, 0, 0, 0, 1,\n",
    "    0, 0, 0, 0, 1,], \n",
    "\n",
    "    [ 1, 1, 1, 1, 1,\n",
    "    1, 0, 0, 0, 0,\n",
    "    1, 1, 1, 1, 1,\n",
    "    0, 0, 0, 0, 1,\n",
    "    1, 1, 1, 1, 1,],\n",
    "\n",
    "    [ 1, 1, 1, 1, 1,\n",
    "    1, 0, 0, 0, 0,\n",
    "    1, 1, 1, 1, 1,\n",
    "    1, 0, 0, 0, 1,\n",
    "    1, 1, 1, 1, 1,],\n",
    "\n",
    "    [1, 1, 1, 1, 1,\n",
    "    0, 0, 0, 0, 1,\n",
    "    0, 0, 0, 1, 0,\n",
    "    0, 0, 1, 0, 0,\n",
    "    0, 0, 1, 0, 0,],\n",
    "\n",
    "    [1, 1, 1, 1, 1,\n",
    "    1, 0, 0, 0, 1,\n",
    "    1, 1, 1, 1, 1,\n",
    "    1, 0, 0, 0, 1,\n",
    "    1, 1, 1, 1, 1,],\n",
    "\n",
    "    [1, 1, 1, 1, 1,\n",
    "    1, 0, 0, 0, 1,\n",
    "    1, 1, 1, 1, 1,\n",
    "    0, 0, 0, 0, 1,\n",
    "    1, 1, 1, 1, 1,]\n",
    "]\n",
    "\n",
    "\n",
    "for _ in range(10000):\n",
    "    for input_vector, target_vector in zip(inputs,targets):\n",
    "        backpropagation(network, input_vector, target_vector)"
   ]
  },
  {
   "cell_type": "code",
   "execution_count": 33,
   "metadata": {},
   "outputs": [
    {
     "data": {
      "text/plain": [
       "[0.009755267105217375,\n",
       " 0.016849544392888233,\n",
       " 3.940551536650131e-05,\n",
       " 0.004695273196870386,\n",
       " 4.698130587673203e-07,\n",
       " 1.0770013928033583e-07,\n",
       " 8.307370385852996e-07,\n",
       " 0.9732662196554288,\n",
       " 3.1090925599406223e-13,\n",
       " 1.2360250239344405e-13]"
      ]
     },
     "execution_count": 33,
     "metadata": {},
     "output_type": "execute_result"
    }
   ],
   "source": [
    "def predict(input):\n",
    "    return feed_forward(network,input)[-1]\n",
    "\n",
    "predict(inputs[7])"
   ]
  },
  {
   "cell_type": "code",
   "execution_count": 34,
   "metadata": {},
   "outputs": [
    {
     "data": {
      "image/png": "[encoded data removed]",
      "text/plain": [
       "<Figure size 640x480 with 1 Axes>"
      ]
     },
     "metadata": {},
     "output_type": "display_data"
    }
   ],
   "source": [
    "import matplotlib\n",
    "\n",
    "def patch(x, y, hatch, color):\n",
    "    return matplotlib.patches.Rectangle((x - 0.5, y - 0.5), 1, 1,hatch=hatch, fill=False, color=color)\n",
    "\n",
    "\n",
    "weights = network[0][0]\n",
    "# primeiro neurônio na camada oculta\n",
    "abs_weights = list(map(abs, weights)) # a escuridão depende somente do valor absoluto\n",
    "\n",
    "grid = [abs_weights[row:(row+5)] for row in range(0,25,5)] \n",
    "\n",
    "ax = plt.gca()\n",
    "# para usar hachuras, precisamos de eixos\n",
    "ax.imshow(grid,cmap=matplotlib.cm.binary, interpolation='none')\n",
    "# assinala blocos como blocos\n",
    "\n",
    "for i in range(5):\n",
    "# linha\n",
    "    for j in range(5):\n",
    "    # coluna\n",
    "        if weights[5*i + j] < 0:\n",
    "        # linha i, coluna j = pesos[5*i + j]\n",
    "        # adiciona hachuras preto e brancas, visíveis sejam claras ou escuras\n",
    "            ax.add_patch(patch(j, i, '/', \"white\"))\n",
    "            ax.add_patch(patch(j, i, '\\\\', \"black\"))\n",
    "plt.show()"
   ]
  }
 ],
 "metadata": {
  "kernelspec": {
   "display_name": "venv",
   "language": "python",
   "name": "python3"
  },
  "language_info": {
   "codemirror_mode": {
    "name": "ipython",
    "version": 3
   },
   "file_extension": ".py",
   "mimetype": "text/x-python",
   "name": "python",
   "nbconvert_exporter": "python",
   "pygments_lexer": "ipython3",
   "version": "3.8.10"
  }
 },
 "nbformat": 4,
 "nbformat_minor": 2
}
