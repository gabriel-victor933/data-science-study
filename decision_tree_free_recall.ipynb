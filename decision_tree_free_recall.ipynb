{
 "cells": [
  {
   "cell_type": "markdown",
   "metadata": {},
   "source": [
    "## Decision Tree Learning"
   ]
  },
  {
   "cell_type": "markdown",
   "metadata": {},
   "source": [
    "Uma arvore de decisão é um algoritmo 'ganancioso' (greedy) que divide o conjunto de dados em duas partes a cada passo afim de aumentar o ganho de informação, ou seja, diminuir a entropia. \n",
    "\n",
    "- *Um algoritmos ganacioso é aquele escolhe a decisão ótima para a cada passo.*"
   ]
  }
 ],
 "metadata": {
  "language_info": {
   "name": "python"
  }
 },
 "nbformat": 4,
 "nbformat_minor": 2
}
