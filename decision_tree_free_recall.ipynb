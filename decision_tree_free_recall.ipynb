{
 "cells": [
  {
   "cell_type": "markdown",
   "metadata": {},
   "source": [
    "## Decision Tree Learning"
   ]
  },
  {
   "cell_type": "markdown",
   "metadata": {},
   "source": [
    "Uma arvore de decisão é um algoritmo 'ganancioso' (greedy) que divide o conjunto de dados em duas partes a cada passo afim de aumentar o ganho de informação, ou seja, diminuir a entropia. \n",
    "\n",
    "- *Um algoritmos ganacioso é aquele escolhe a decisão ótima para a cada passo.*"
   ]
  },
  {
   "cell_type": "code",
   "execution_count": 10,
   "metadata": {},
   "outputs": [],
   "source": [
    "import math\n",
    "import numpy as np"
   ]
  },
  {
   "cell_type": "code",
   "execution_count": 11,
   "metadata": {},
   "outputs": [],
   "source": [
    "inputs = [\n",
    "    ({'label': '1','value': 10},False),\n",
    "    ({'label': '2','value': 10},False),\n",
    "    ({'label': '1','value': 20},True),\n",
    "    ({'label': '2','value': 10},True),\n",
    "    ({'label': '1','value': 20},True),\n",
    "]"
   ]
  },
  {
   "cell_type": "code",
   "execution_count": null,
   "metadata": {},
   "outputs": [
    {
     "data": {
      "text/plain": [
       "{'1': [False, True, True], '2': [False, True]}"
      ]
     },
     "execution_count": 15,
     "metadata": {},
     "output_type": "execute_result"
    }
   ],
   "source": [
    "def entropy(p):\n",
    "    return -p*np.log2(p)\n",
    "\n",
    "def divide_by_label(inputs, label):\n",
    "    ocorr = {}\n",
    "\n",
    "    for input in inputs:\n",
    "        if ocorr.get(input[0][label]) is None:\n",
    "            ocorr[input[0][label]] = [input[1]]\n",
    "        else:\n",
    "            ocorr[input[0][label]].append(input[1])\n",
    "        \n",
    "    return ocorr\n",
    "\n",
    "def entropy_of_partition():\n",
    "    \n",
    "\n",
    "\n",
    "divide_by_label(inputs,'label')"
   ]
  }
 ],
 "metadata": {
  "kernelspec": {
   "display_name": "venv",
   "language": "python",
   "name": "python3"
  },
  "language_info": {
   "codemirror_mode": {
    "name": "ipython",
    "version": 3
   },
   "file_extension": ".py",
   "mimetype": "text/x-python",
   "name": "python",
   "nbconvert_exporter": "python",
   "pygments_lexer": "ipython3",
   "version": "3.8.10"
  }
 },
 "nbformat": 4,
 "nbformat_minor": 2
}
