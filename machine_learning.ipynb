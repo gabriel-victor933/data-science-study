{
 "cells": [
  {
   "cell_type": "code",
   "execution_count": 3,
   "metadata": {},
   "outputs": [],
   "source": [
    "import matplotlib.pyplot as plt\n",
    "import random\n",
    "import numpy as np"
   ]
  },
  {
   "cell_type": "markdown",
   "metadata": {},
   "source": [
    "## O que é um modelo?\n",
    "\n",
    "Modelo é uma especificação matemática ou probabilística existente entre variaveis"
   ]
  },
  {
   "cell_type": "markdown",
   "metadata": {},
   "source": [
    "## o que é um modelo supervisionado?\n",
    "\n",
    "é um modelo que possui um conjunto de dados etiquetados com a resposta correta. \n"
   ]
  },
  {
   "cell_type": "markdown",
   "metadata": {},
   "source": [
    "## o que é sobreajuste e subajuste?\n",
    "\n",
    "Sobreajuste ocorre quando um modelo está 'treinado' demais para um conjunto de dados fazendo que ele perfome corretamente para os dados do treinamento, mas erre quando dados novos são inseridos. \n",
    "\n",
    "subajuste é quando o modelo ainda não está 'treinado' o suficiente para acertar o conjunto de dados do treinamento. \n",
    "\n",
    "### Identificar modelos sobreajustados:\n",
    "Para identificar um modelo sobreajustados basta testar a perfomance do modelo para dados novos (dados que não foram usados no treinamento)"
   ]
  },
  {
   "cell_type": "code",
   "execution_count": 6,
   "metadata": {},
   "outputs": [],
   "source": [
    "def split_data(data, prop):\n",
    "    results = [[],[]]\n",
    "\n",
    "    for num in data:\n",
    "        results[0 if random.random() < prop else 1].append(num)\n",
    "\n",
    "    return results\n",
    "\n",
    "def train_test_split(x,y,test_pct):\n",
    "    data = zip(x,y)\n",
    "\n",
    "    train,test = split_data(data,1-test_pct)\n",
    "    x_train,y_train = zip(*train)\n",
    "    x_test,y_test = zip(*test)\n",
    "\n",
    "    return x_train,y_train, x_test,y_test"
   ]
  },
  {
   "cell_type": "code",
   "execution_count": 9,
   "metadata": {},
   "outputs": [
    {
     "name": "stdout",
     "output_type": "stream",
     "text": [
      "0.98114\n",
      "0.014\n",
      "0.005\n",
      "0.00736842105263158\n"
     ]
    }
   ],
   "source": [
    "def accuracy(tp, fp, fn, tn):\n",
    "    total = tp + fp +tn + fn\n",
    "    correct = tp + tn\n",
    "    return correct/total\n",
    "\n",
    "def precision(tp, fp, fn, tn):\n",
    "    return tp/(tp+fp)\n",
    "\n",
    "def recall(tp, fp, fn, tn):\n",
    "    return tp/(tp + fn)\n",
    "\n",
    "def f1_score(tp, fp, fn, tn):\n",
    "    p = precision(tp, fp, fn, tn)\n",
    "    r = recall(tp, fp, fn, tn)\n",
    "    return 2 * p * r / (p + r)\n",
    "\n",
    "print(accuracy(70, 4930, 13930, 981070))\n",
    "print(precision(70, 4930, 13930, 981070))\n",
    "print(recall(70, 4930, 13930, 981070))\n",
    "print(f1_score(70, 4930, 13930, 981070))"
   ]
  },
  {
   "cell_type": "markdown",
   "metadata": {},
   "source": [
    "## Polarização X Variancia:\n",
    "\n",
    "Um modelo com polarização alta significa que ele não possui um bom desempenho no conjunto de treinamento. \n",
    "\n",
    "Uma modelo de Variancia baixa significa que ira possuir poucas diferenças com outro modelo treinado com uma amostra diferente da população original. Já um modelo com variancia alta ira possuir grandes diferenças com outro modelo treinado com uma amostra diferente da população original. "
   ]
  },
  {
   "cell_type": "markdown",
   "metadata": {},
   "source": [
    "## O que são caracteristicas?\n",
    "\n",
    "Caracteristicas são quaisquer entradas que fornecemos ao nosso modelo; "
   ]
  }
 ],
 "metadata": {
  "kernelspec": {
   "display_name": "venv",
   "language": "python",
   "name": "python3"
  },
  "language_info": {
   "codemirror_mode": {
    "name": "ipython",
    "version": 3
   },
   "file_extension": ".py",
   "mimetype": "text/x-python",
   "name": "python",
   "nbconvert_exporter": "python",
   "pygments_lexer": "ipython3",
   "version": "3.8.10"
  }
 },
 "nbformat": 4,
 "nbformat_minor": 2
}
